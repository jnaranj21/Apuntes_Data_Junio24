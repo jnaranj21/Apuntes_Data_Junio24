{
  "cells": [
    {
      "cell_type": "markdown",
      "metadata": {
        "id": "VHcumssTyb_k"
      },
      "source": [
        "# 2.1 - Web Scraping (selenium)\n",
        "\n",
        "<p align = 'center'>\n",
        "<img src = 'https://www.scrapingbee.com/blog/selenium-python/cover.png' >\n",
        "</p>\n",
        "\n",
        "**[Docu **SELENIUM**](https://selenium-python.readthedocs.io/)**\n",
        "\n",
        "Selenium es un entorno de pruebas de software para aplicaciones basadas en la web. Selenium provee una herramienta de grabar/reproducir para crear pruebas sin usar un lenguaje de scripting para pruebas (Selenium IDE). Incluye también un lenguaje específico de dominio para pruebas (Selenese) para escribir pruebas en un amplio número de lenguajes de programación populares incluyendo Java, C#, Ruby, Groovy, Perl, Php y Python. Las pruebas pueden ejecutarse entonces usando la mayoría de los navegadores web modernos en diferentes sistemas operativos como Windows, Linux y OSX.\n",
        "\n",
        "Selenium fue originalmente desarrollado por Jason Huggins en **2004** y pronto se unieron al esfuerzo otras personas especialistas en pruebas y programación.\n",
        "\n",
        "Es un software de código abierto bajo la licencia apache 2.0 que puede ser descargada y usada sin cargo. El nombre proviene de una broma hecha por Huggins burlándose de un competidor llamado Mercury (mercurio) diciendo que el envenenamiento por mercurio puede ser curado tomando complementos de Selenium. Los participantes tomaron el nombre y siguieron con él. Existen otros proyectos que se desarrollan alrededor de Selenium como Selenium Grid, para probar concurrencia de múltiples pruebas concurrentes de clientes remotos o locales, así como Flash Selenium para probar programas escritos en Adobe Flex o Selenium Silverlight.\n",
        "\n",
        "\n",
        "### Componentes\n",
        "\n",
        "**Selenium IDE**\n",
        "\n",
        "Selenium IDE es un entorno de desarrollo integrado para pruebas con Selenium. Está implementado como una extensión de Firefox y permite grabar, editar y depurar pruebas. Originalmente se le conoció como Selenium Recorder.\n",
        "\n",
        "Se pueden desarrollar automáticamente scripts al crear una grabación y de esa manera se puede editar manualmente con sentencias y comandos para que la reproducción de nuestra grabación sea correcta\n",
        "\n",
        "Los scripts se generan en Selanese, un lenguaje de scripting especial para Selenium. Selanese provee comandos que ejecutan acciones sobre objetos en el navegador, como hacer clic en un enlace, seleccionar de una lista de opciones, verificar la presencia de un texto en particular así como para tomar la totalidad de la página producto de las acciones.\n",
        "\n",
        "Características:\n",
        "\n",
        "+ Grabación y reproducción fácil\n",
        "+ Selección inteligente de campos usando ID, nombre o XPath según se necesite.\n",
        "+ Compleción automática de los comandos de Selenium más comunes.\n",
        "+ Pruebas de revisión cruzada\n",
        "+ Depuración y puntos de verificación (breakpoint)\n",
        "+ Almacenar las pruebas como Selanese, Ruby, Java y otros formatos.\n",
        "+ Soporte al archivo user-extensions.js\n",
        "+ Opción para asertar el título de la página.\n",
        "+ Opción de modificarle a la medida con el uso de complementos\n",
        "\n",
        "\n",
        "**Selenium Client API**\n",
        "\n",
        "Interfaz de programación de aplicaciones (API) de clientes Como alternativa a escribir pruebas en Selanese, las pruebas pueden escribirse en varios lenguajes de programación, éstos se comunican con Selenium mediante llamadas a los métodos de Selenium Client API. Actualmente Selenium provee API para Java, C#, Ruby y Python. Con Selenium 2 se presentó una nueva API de clientes, con WebDriver como componente central, aunque la anterior API puede seguirse usando llamando a la clase Selenium.\n",
        "\n",
        "\n",
        "**Selenium Remote Control**\n",
        "\n",
        "Selenium Remote Control (RC) es un servidor escrito en Java que acepta comandos al navegador vía HTTP. RC hace posible escribir pruebas automatizadas para aplicaciones web, en cualquier lenguaje de programación lo que permite una mejor integración de Selenium a entornos de prueba existentes. Para hacer la escritura de pruebas más fácil, Selenium actualmente provee controladores de dispositivos para PHP, Python, Ruby,.NET, Perl y Java. El controlador de Java puede usarse para Javascript vía el motor Rhino. Selenium Remote Control fue una refactorización de Driven Selenium o Selenium B, la versión original lanzaba directamente un proceso para el navegador en cuestión desde el lenguaje de prueba; el protocolo de cable (confusamente llamado Selanese también en aquel tiempo) fue reimplementado al portarse a cada lenguaje. Después de la refactorización, hubo un proceso intermediario demonio entre el script controlador y el navegador. Los beneficios incluyeron la capacidad de controlar navegadores remotos y reducir la necesidad de portar el código a un número creciente de lenguajes. Con la liberación de Selenium 2, Selenium RC fue oficialmente descartado en favor de Selenium WebDriver.\n",
        "\n",
        "\n",
        "**Selenium WebDriver**\n",
        "\n",
        "Selenium WebDriver es el sucesor de Selenium RC. Selenium WebDriver acepta comandos (enviados en Selenese o vía el API de cliente) y los envía a un navegador. Esto se implementa a través de un controlador del navegador específico para cada navegador que envía los comandos y trae los resultados de regreso. La mayoría de los controladores del navegador lanzan y acceden a la aplicación de navegador (como Mozilla Firefox o Internet Explorer), pero también hay un controlador para HtmlUnit que simula un navegador. A diferencia de Selenium 1, donde el servidor Selenium RC era indispensable, en Selenium WebDriver no se requiere de un servidor especial para ejecutar las pruebas, en vez de ello WebDriver inicia una instancia del navegador y lo controla; sin embargo puede usarse Selenium Grid (ver abajo) para ejecutar pruebas en sistemas remotos (ver más abajo). Desde inicios de 2012, Simon Stewart de Google (inventor del WebDriver) y David Burns de la Fundación Mozilla se encuentran negociando con el W3C que WebDriver se convierta en un estándar de Internet, como tal Selenium-Webdriver (Selenium 2.0) apunta a ser la implementación de referencia del estándar WebDriver en varios lenguajes de programación. Selenium-WebDriver está completamente implementado y soportado en Java, Ruby, Python y C#. En la práctica, esto significa que la API de Selenium 2.0 tiene significativamente menos llamadas que el API de Selenium 1.0. Donde Selenium 1.0 intentaba proveer una interfaz rica en muchas operaciones, Selenium 2.0 intenta proveer de los bloques de construcción básicos con los cuales los desarrolladores puedan programar su propio lenguaje específico de dominio. Uno de ellos ya existe y es el proyecto Watir en Ruby que tiene una historia rica en buen diseño. Watir-WebDriver implementa el API de Watir como un envolvente del Selenium-Webdriver en Ruby. Watir-WebDriver se crea de forma completamente automática, basado en las especificaciones del WebDriver y HTML.\n",
        "\n",
        "**Selenium Grid**\n",
        "\n",
        "Selenium Grid es un servidor que permite usar instancias de navegador ejecutándose en máquinas remotas. Con Selenium Grid, uno de los servidores actúa como concentrador. Las pruebas contactan al concentrador para obtener acceso a instancias de navegadores; el concentrador lleva una lista de instancias de los navegadores (Nodos de WebDriver) y permiten a las pruebas usar estas instancias. Selenium Grid permite ejecutar pruebas en paralelo en múltiples máquinas y manejar diferentes versiones y configuraciones de manera centralizada."
      ]
    },
    {
      "cell_type": "markdown",
      "metadata": {
        "id": "s-BfinIjyh2R"
      },
      "source": [
        "Nosotros usaremos fundamentalmente el Webdriver en Python.\n",
        "\n",
        "https://chromedriver.chromium.org/downloads"
      ]
    },
    {
      "cell_type": "markdown",
      "metadata": {
        "id": "9-IQL2Xmyila"
      },
      "source": [
        "Para instalar:\n",
        "\n",
        "```bash\n",
        "pip install selenium\n",
        "```"
      ]
    },
    {
      "cell_type": "code",
      "execution_count": 1,
      "metadata": {
        "colab": {
          "base_uri": "https://localhost:8080/"
        },
        "id": "EYrk4_vCssS2",
        "outputId": "12d2ef55-87f7-4c93-b512-e7add2c346bb"
      },
      "outputs": [
        {
          "name": "stdout",
          "output_type": "stream",
          "text": [
            "Collecting selenium\n",
            "  Downloading selenium-4.25.0-py3-none-any.whl.metadata (7.1 kB)\n",
            "Requirement already satisfied: urllib3<3,>=1.26 in c:\\users\\juane\\appdata\\local\\packages\\pythonsoftwarefoundation.python.3.11_qbz5n2kfra8p0\\localcache\\local-packages\\python311\\site-packages (from urllib3[socks]<3,>=1.26->selenium) (2.2.3)\n",
            "Collecting trio~=0.17 (from selenium)\n",
            "  Downloading trio-0.26.2-py3-none-any.whl.metadata (8.6 kB)\n",
            "Collecting trio-websocket~=0.9 (from selenium)\n",
            "  Downloading trio_websocket-0.11.1-py3-none-any.whl.metadata (4.7 kB)\n",
            "Requirement already satisfied: certifi>=2021.10.8 in c:\\users\\juane\\appdata\\local\\packages\\pythonsoftwarefoundation.python.3.11_qbz5n2kfra8p0\\localcache\\local-packages\\python311\\site-packages (from selenium) (2024.8.30)\n",
            "Requirement already satisfied: typing_extensions~=4.9 in c:\\users\\juane\\appdata\\local\\packages\\pythonsoftwarefoundation.python.3.11_qbz5n2kfra8p0\\localcache\\local-packages\\python311\\site-packages (from selenium) (4.12.2)\n",
            "Collecting websocket-client~=1.8 (from selenium)\n",
            "  Downloading websocket_client-1.8.0-py3-none-any.whl.metadata (8.0 kB)\n",
            "Collecting attrs>=23.2.0 (from trio~=0.17->selenium)\n",
            "  Downloading attrs-24.2.0-py3-none-any.whl.metadata (11 kB)\n",
            "Collecting sortedcontainers (from trio~=0.17->selenium)\n",
            "  Downloading sortedcontainers-2.4.0-py2.py3-none-any.whl.metadata (10 kB)\n",
            "Requirement already satisfied: idna in c:\\users\\juane\\appdata\\local\\packages\\pythonsoftwarefoundation.python.3.11_qbz5n2kfra8p0\\localcache\\local-packages\\python311\\site-packages (from trio~=0.17->selenium) (3.8)\n",
            "Collecting outcome (from trio~=0.17->selenium)\n",
            "  Downloading outcome-1.3.0.post0-py2.py3-none-any.whl.metadata (2.6 kB)\n",
            "Collecting sniffio>=1.3.0 (from trio~=0.17->selenium)\n",
            "  Downloading sniffio-1.3.1-py3-none-any.whl.metadata (3.9 kB)\n",
            "Collecting cffi>=1.14 (from trio~=0.17->selenium)\n",
            "  Downloading cffi-1.17.1-cp311-cp311-win_amd64.whl.metadata (1.6 kB)\n",
            "Collecting wsproto>=0.14 (from trio-websocket~=0.9->selenium)\n",
            "  Downloading wsproto-1.2.0-py3-none-any.whl.metadata (5.6 kB)\n",
            "Collecting pysocks!=1.5.7,<2.0,>=1.5.6 (from urllib3[socks]<3,>=1.26->selenium)\n",
            "  Downloading PySocks-1.7.1-py3-none-any.whl.metadata (13 kB)\n",
            "Collecting pycparser (from cffi>=1.14->trio~=0.17->selenium)\n",
            "  Downloading pycparser-2.22-py3-none-any.whl.metadata (943 bytes)\n",
            "Collecting h11<1,>=0.9.0 (from wsproto>=0.14->trio-websocket~=0.9->selenium)\n",
            "  Downloading h11-0.14.0-py3-none-any.whl.metadata (8.2 kB)\n",
            "Downloading selenium-4.25.0-py3-none-any.whl (9.7 MB)\n",
            "   ---------------------------------------- 0.0/9.7 MB ? eta -:--:--\n",
            "    --------------------------------------- 0.2/9.7 MB 3.9 MB/s eta 0:00:03\n",
            "   - -------------------------------------- 0.4/9.7 MB 5.1 MB/s eta 0:00:02\n",
            "   -- ------------------------------------- 0.5/9.7 MB 3.9 MB/s eta 0:00:03\n",
            "   -- ------------------------------------- 0.6/9.7 MB 3.7 MB/s eta 0:00:03\n",
            "   --- ------------------------------------ 1.0/9.7 MB 4.3 MB/s eta 0:00:03\n",
            "   ---- ----------------------------------- 1.2/9.7 MB 4.5 MB/s eta 0:00:02\n",
            "   ------ --------------------------------- 1.6/9.7 MB 5.0 MB/s eta 0:00:02\n",
            "   ------- -------------------------------- 1.9/9.7 MB 5.1 MB/s eta 0:00:02\n",
            "   --------- ------------------------------ 2.2/9.7 MB 5.4 MB/s eta 0:00:02\n",
            "   ---------- ----------------------------- 2.5/9.7 MB 5.4 MB/s eta 0:00:02\n",
            "   ----------- ---------------------------- 2.7/9.7 MB 5.5 MB/s eta 0:00:02\n",
            "   ------------ --------------------------- 3.0/9.7 MB 5.6 MB/s eta 0:00:02\n",
            "   ------------- -------------------------- 3.3/9.7 MB 5.5 MB/s eta 0:00:02\n",
            "   --------------- ------------------------ 3.6/9.7 MB 5.7 MB/s eta 0:00:02\n",
            "   --------------- ------------------------ 3.8/9.7 MB 5.4 MB/s eta 0:00:02\n",
            "   --------------- ------------------------ 3.8/9.7 MB 5.4 MB/s eta 0:00:02\n",
            "   --------------- ------------------------ 3.8/9.7 MB 5.4 MB/s eta 0:00:02\n",
            "   ---------------- ----------------------- 3.9/9.7 MB 4.8 MB/s eta 0:00:02\n",
            "   ---------------- ----------------------- 4.1/9.7 MB 4.7 MB/s eta 0:00:02\n",
            "   ---------------- ----------------------- 4.1/9.7 MB 4.7 MB/s eta 0:00:02\n",
            "   ----------------- ---------------------- 4.2/9.7 MB 4.4 MB/s eta 0:00:02\n",
            "   ----------------- ---------------------- 4.3/9.7 MB 4.3 MB/s eta 0:00:02\n",
            "   ------------------- -------------------- 4.7/9.7 MB 4.5 MB/s eta 0:00:02\n",
            "   -------------------- ------------------- 5.0/9.7 MB 4.5 MB/s eta 0:00:02\n",
            "   --------------------- ------------------ 5.1/9.7 MB 4.5 MB/s eta 0:00:02\n",
            "   ---------------------- ----------------- 5.4/9.7 MB 4.6 MB/s eta 0:00:01\n",
            "   ----------------------- ---------------- 5.6/9.7 MB 4.6 MB/s eta 0:00:01\n",
            "   ------------------------ --------------- 5.9/9.7 MB 4.6 MB/s eta 0:00:01\n",
            "   ------------------------ --------------- 6.0/9.7 MB 4.6 MB/s eta 0:00:01\n",
            "   ------------------------- -------------- 6.1/9.7 MB 4.5 MB/s eta 0:00:01\n",
            "   -------------------------- ------------- 6.3/9.7 MB 4.5 MB/s eta 0:00:01\n",
            "   -------------------------- ------------- 6.5/9.7 MB 4.5 MB/s eta 0:00:01\n",
            "   --------------------------- ------------ 6.8/9.7 MB 4.5 MB/s eta 0:00:01\n",
            "   ----------------------------- ---------- 7.1/9.7 MB 4.6 MB/s eta 0:00:01\n",
            "   ------------------------------ --------- 7.4/9.7 MB 4.6 MB/s eta 0:00:01\n",
            "   ------------------------------- -------- 7.7/9.7 MB 4.7 MB/s eta 0:00:01\n",
            "   -------------------------------- ------- 7.9/9.7 MB 4.7 MB/s eta 0:00:01\n",
            "   --------------------------------- ------ 8.1/9.7 MB 4.8 MB/s eta 0:00:01\n",
            "   ---------------------------------- ----- 8.2/9.7 MB 4.7 MB/s eta 0:00:01\n",
            "   ----------------------------------- ---- 8.6/9.7 MB 4.7 MB/s eta 0:00:01\n",
            "   ------------------------------------ --- 8.9/9.7 MB 4.8 MB/s eta 0:00:01\n",
            "   ------------------------------------- -- 9.1/9.7 MB 4.8 MB/s eta 0:00:01\n",
            "   ---------------------------------------  9.5/9.7 MB 4.8 MB/s eta 0:00:01\n",
            "   ---------------------------------------  9.7/9.7 MB 4.9 MB/s eta 0:00:01\n",
            "   ---------------------------------------  9.7/9.7 MB 4.9 MB/s eta 0:00:01\n",
            "   ---------------------------------------  9.7/9.7 MB 4.7 MB/s eta 0:00:01\n",
            "   ---------------------------------------- 9.7/9.7 MB 4.6 MB/s eta 0:00:00\n",
            "Downloading trio-0.26.2-py3-none-any.whl (475 kB)\n",
            "   ---------------------------------------- 0.0/476.0 kB ? eta -:--:--\n",
            "   ------------------ --------------------- 225.3/476.0 kB 4.6 MB/s eta 0:00:01\n",
            "   ------------------------------------- -- 450.6/476.0 kB 5.6 MB/s eta 0:00:01\n",
            "   ---------------------------------------- 476.0/476.0 kB 5.0 MB/s eta 0:00:00\n",
            "Downloading trio_websocket-0.11.1-py3-none-any.whl (17 kB)\n",
            "Downloading websocket_client-1.8.0-py3-none-any.whl (58 kB)\n",
            "   ---------------------------------------- 0.0/58.8 kB ? eta -:--:--\n",
            "   ---------------------------------------- 58.8/58.8 kB 1.5 MB/s eta 0:00:00\n",
            "Downloading attrs-24.2.0-py3-none-any.whl (63 kB)\n",
            "   ---------------------------------------- 0.0/63.0 kB ? eta -:--:--\n",
            "   ---------------------------------------- 63.0/63.0 kB 1.6 MB/s eta 0:00:00\n",
            "Downloading cffi-1.17.1-cp311-cp311-win_amd64.whl (181 kB)\n",
            "   ---------------------------------------- 0.0/181.4 kB ? eta -:--:--\n",
            "   ---------------------------------------- 181.4/181.4 kB 5.5 MB/s eta 0:00:00\n",
            "Downloading PySocks-1.7.1-py3-none-any.whl (16 kB)\n",
            "Downloading sniffio-1.3.1-py3-none-any.whl (10 kB)\n",
            "Downloading wsproto-1.2.0-py3-none-any.whl (24 kB)\n",
            "Downloading outcome-1.3.0.post0-py2.py3-none-any.whl (10 kB)\n",
            "Downloading sortedcontainers-2.4.0-py2.py3-none-any.whl (29 kB)\n",
            "Downloading h11-0.14.0-py3-none-any.whl (58 kB)\n",
            "   ---------------------------------------- 0.0/58.3 kB ? eta -:--:--\n",
            "   ---------------------------------------- 58.3/58.3 kB 3.0 MB/s eta 0:00:00\n",
            "Downloading pycparser-2.22-py3-none-any.whl (117 kB)\n",
            "   ---------------------------------------- 0.0/117.6 kB ? eta -:--:--\n",
            "   ---------------------------------------- 117.6/117.6 kB 7.2 MB/s eta 0:00:00\n",
            "Installing collected packages: sortedcontainers, websocket-client, sniffio, pysocks, pycparser, h11, attrs, wsproto, outcome, cffi, trio, trio-websocket, selenium\n",
            "Successfully installed attrs-24.2.0 cffi-1.17.1 h11-0.14.0 outcome-1.3.0.post0 pycparser-2.22 pysocks-1.7.1 selenium-4.25.0 sniffio-1.3.1 sortedcontainers-2.4.0 trio-0.26.2 trio-websocket-0.11.1 websocket-client-1.8.0 wsproto-1.2.0\n",
            "Note: you may need to restart the kernel to use updated packages.\n"
          ]
        },
        {
          "name": "stderr",
          "output_type": "stream",
          "text": [
            "\n",
            "[notice] A new release of pip is available: 24.0 -> 24.2\n",
            "[notice] To update, run: C:\\Users\\juane\\AppData\\Local\\Microsoft\\WindowsApps\\PythonSoftwareFoundation.Python.3.11_qbz5n2kfra8p0\\python.exe -m pip install --upgrade pip\n"
          ]
        }
      ],
      "source": [
        "pip install selenium"
      ]
    },
    {
      "cell_type": "markdown",
      "metadata": {
        "id": "6VCimf1LyljQ"
      },
      "source": [
        "Import"
      ]
    },
    {
      "cell_type": "code",
      "execution_count": 2,
      "metadata": {
        "id": "0xl-LjUzyd2U"
      },
      "outputs": [],
      "source": [
        "from selenium import webdriver"
      ]
    },
    {
      "cell_type": "code",
      "execution_count": 4,
      "metadata": {
        "id": "N68x66Duyqx6"
      },
      "outputs": [],
      "source": [
        "#help(webdriver)"
      ]
    },
    {
      "cell_type": "markdown",
      "metadata": {
        "id": "aCNgNiG2yu6P"
      },
      "source": [
        "**Si no has descargado el driver para Google, o el geckodriver para Firefox, puedes manejarlo para Chrome con esta librería.**"
      ]
    },
    {
      "cell_type": "code",
      "execution_count": 3,
      "metadata": {
        "colab": {
          "base_uri": "https://localhost:8080/"
        },
        "id": "3vZwQjkjysZC",
        "outputId": "1cf63213-6ebe-4368-fcd3-c22c4761cf3a"
      },
      "outputs": [
        {
          "name": "stdout",
          "output_type": "stream",
          "text": [
            "Collecting webdriver-manager\n",
            "  Downloading webdriver_manager-4.0.2-py2.py3-none-any.whl.metadata (12 kB)\n",
            "Requirement already satisfied: requests in c:\\users\\juane\\appdata\\local\\packages\\pythonsoftwarefoundation.python.3.11_qbz5n2kfra8p0\\localcache\\local-packages\\python311\\site-packages (from webdriver-manager) (2.32.3)\n",
            "Collecting python-dotenv (from webdriver-manager)\n",
            "  Downloading python_dotenv-1.0.1-py3-none-any.whl.metadata (23 kB)\n",
            "Requirement already satisfied: packaging in c:\\users\\juane\\appdata\\local\\packages\\pythonsoftwarefoundation.python.3.11_qbz5n2kfra8p0\\localcache\\local-packages\\python311\\site-packages (from webdriver-manager) (24.1)\n",
            "Requirement already satisfied: charset-normalizer<4,>=2 in c:\\users\\juane\\appdata\\local\\packages\\pythonsoftwarefoundation.python.3.11_qbz5n2kfra8p0\\localcache\\local-packages\\python311\\site-packages (from requests->webdriver-manager) (3.3.2)\n",
            "Requirement already satisfied: idna<4,>=2.5 in c:\\users\\juane\\appdata\\local\\packages\\pythonsoftwarefoundation.python.3.11_qbz5n2kfra8p0\\localcache\\local-packages\\python311\\site-packages (from requests->webdriver-manager) (3.8)\n",
            "Requirement already satisfied: urllib3<3,>=1.21.1 in c:\\users\\juane\\appdata\\local\\packages\\pythonsoftwarefoundation.python.3.11_qbz5n2kfra8p0\\localcache\\local-packages\\python311\\site-packages (from requests->webdriver-manager) (2.2.3)\n",
            "Requirement already satisfied: certifi>=2017.4.17 in c:\\users\\juane\\appdata\\local\\packages\\pythonsoftwarefoundation.python.3.11_qbz5n2kfra8p0\\localcache\\local-packages\\python311\\site-packages (from requests->webdriver-manager) (2024.8.30)\n",
            "Downloading webdriver_manager-4.0.2-py2.py3-none-any.whl (27 kB)\n",
            "Downloading python_dotenv-1.0.1-py3-none-any.whl (19 kB)\n",
            "Installing collected packages: python-dotenv, webdriver-manager\n",
            "Successfully installed python-dotenv-1.0.1 webdriver-manager-4.0.2\n",
            "Note: you may need to restart the kernel to use updated packages.\n"
          ]
        },
        {
          "name": "stderr",
          "output_type": "stream",
          "text": [
            "\n",
            "[notice] A new release of pip is available: 24.0 -> 24.2\n",
            "[notice] To update, run: C:\\Users\\juane\\AppData\\Local\\Microsoft\\WindowsApps\\PythonSoftwareFoundation.Python.3.11_qbz5n2kfra8p0\\python.exe -m pip install --upgrade pip\n"
          ]
        }
      ],
      "source": [
        "pip install webdriver-manager"
      ]
    },
    {
      "cell_type": "code",
      "execution_count": 4,
      "metadata": {
        "id": "JDN8lsJWy03u"
      },
      "outputs": [],
      "source": [
        "from webdriver_manager.chrome import ChromeDriverManager # Se encarga de descargar el driver de chrome y de mantenerlo actualizado\n",
        "from selenium.webdriver.chrome.options import Options"
      ]
    },
    {
      "cell_type": "markdown",
      "metadata": {
        "id": "S5XWPBp1y4V3"
      },
      "source": [
        "### Opciones ChromeDriver"
      ]
    },
    {
      "cell_type": "code",
      "execution_count": 5,
      "metadata": {
        "colab": {
          "base_uri": "https://localhost:8080/",
          "height": 714
        },
        "id": "K9x-17pJy4uB",
        "outputId": "d5d77d66-0091-447e-9a28-79f0673b4fa2"
      },
      "outputs": [],
      "source": [
        "#Opciones de chrome\n",
        "options = webdriver.ChromeOptions()\n",
        "\n",
        "# Abre la ventana maximizada\n",
        "#options.add_argument('--start-maximized')\n",
        "\n",
        "# Abre la ventana en un tamaño determinado\n",
        "options.add_argument('window-size=775,1400')\n",
        "\n",
        "options.add_argument('--disable-extensions')\n",
        "#options.add_argument('--headless') # no abre la ventana de chrome"
      ]
    },
    {
      "cell_type": "code",
      "execution_count": 6,
      "metadata": {},
      "outputs": [],
      "source": [
        "driver = webdriver.Chrome(options=options)   # abre una ventana de chrome\n",
        "driver.get('https://www.google.es')"
      ]
    },
    {
      "cell_type": "code",
      "execution_count": 36,
      "metadata": {
        "id": "EDVZHy63y7fM"
      },
      "outputs": [],
      "source": [
        "driver.quit() #Cerramos la ventana de chrome"
      ]
    },
    {
      "cell_type": "code",
      "execution_count": 37,
      "metadata": {
        "id": "CEnp3g_My-RU"
      },
      "outputs": [],
      "source": [
        "#Nos salía un mensaje de \"un software automatizado de pruebas esta controlando Chrome\"\n",
        "#Para evitarlo, tenemos que añadir una opción al navegador\n",
        "options.add_argument('--disable-blink-features=AutomationControlled')\n",
        "#Quitamos el modo sandbox\n",
        "options.add_argument('--no-sandbox')\n",
        "options.add_experimental_option('excludeSwitches', ['enable-automation'])"
      ]
    },
    {
      "cell_type": "code",
      "execution_count": 27,
      "metadata": {},
      "outputs": [],
      "source": [
        "driver = webdriver.Chrome(options=options)   # abre una ventana de chrome\n",
        "driver.get('https://www.google.es')"
      ]
    },
    {
      "cell_type": "code",
      "execution_count": 28,
      "metadata": {
        "id": "tptFGUXRzAsQ"
      },
      "outputs": [],
      "source": [
        "driver.quit()"
      ]
    },
    {
      "cell_type": "code",
      "execution_count": 38,
      "metadata": {},
      "outputs": [],
      "source": [
        "# Deshabilita la ventana emergente de selección del buscador\n",
        "options.add_argument(\"--no-default-browser-check\")\n",
        "options.add_argument(\"--disable-search-engine-choice-screen\")\n",
        "\n",
        "# Evitar mensajes emergentes automáticos de configuración\n",
        "options.add_argument(\"--disable-infobars\")"
      ]
    },
    {
      "cell_type": "code",
      "execution_count": 39,
      "metadata": {},
      "outputs": [],
      "source": [
        "driver = webdriver.Chrome(options=options)   # abre una ventana de chrome\n",
        "driver.get('https://www.google.es')"
      ]
    },
    {
      "cell_type": "code",
      "execution_count": 40,
      "metadata": {},
      "outputs": [],
      "source": [
        "driver.quit()"
      ]
    },
    {
      "cell_type": "markdown",
      "metadata": {
        "id": "Al83W6vFzFkw"
      },
      "source": [
        "### Realizando una búsqueda en Google\n",
        "\n",
        "Importamos `time` para el manejo de los tiempos dentro del código. Haremos una búsqueda en Google y extraeremos los enlaces de los resultados."
      ]
    },
    {
      "cell_type": "code",
      "execution_count": 41,
      "metadata": {
        "id": "jq5Su3BnzCdj"
      },
      "outputs": [],
      "source": [
        "import time\n",
        "#import warnings\n",
        "#warnings.filterwarnings('ignore')\n",
        "from selenium.webdriver.common.by import By # By es para buscar por tag, clase, id..."
      ]
    },
    {
      "cell_type": "code",
      "execution_count": 16,
      "metadata": {
        "id": "0ffhDXRyzNhm"
      },
      "outputs": [],
      "source": [
        "#help(By)"
      ]
    },
    {
      "cell_type": "code",
      "execution_count": 17,
      "metadata": {
        "id": "S2Jdxz3JzPLn"
      },
      "outputs": [],
      "source": [
        "url = 'https://www.google.es/search?q='\n",
        "busqueda = 'Gamma Tech School'"
      ]
    },
    {
      "cell_type": "code",
      "execution_count": 48,
      "metadata": {
        "id": "2n35EMlEzSA2"
      },
      "outputs": [],
      "source": [
        "driver = webdriver.Chrome(options=options)\n",
        "driver.get(url+busqueda)\n",
        "#time.sleep(15)\n",
        "#driver.quit() #Cerramos la ventana de chrome"
      ]
    },
    {
      "cell_type": "markdown",
      "metadata": {
        "id": "FfX71Co7zZBl"
      },
      "source": [
        "Entrando en el inspector podemos ubicar el botón por su ID. Primero permitimos que el cursor nos permita identificar el código en el que se encuentra el botón. Localizamos el ID y lo copiamos."
      ]
    },
    {
      "cell_type": "code",
      "execution_count": 43,
      "metadata": {
        "id": "FzrQLZSXzWG0"
      },
      "outputs": [],
      "source": [
        "driver.find_element(By.ID, 'W0wltc').click()"
      ]
    },
    {
      "cell_type": "code",
      "execution_count": 46,
      "metadata": {
        "id": "Ani_PZ9Dzb4H"
      },
      "outputs": [],
      "source": [
        "driver.quit()"
      ]
    },
    {
      "cell_type": "markdown",
      "metadata": {
        "id": "7fNz2MNazdwZ"
      },
      "source": [
        "Por XPATH"
      ]
    },
    {
      "cell_type": "code",
      "execution_count": 47,
      "metadata": {
        "id": "qPgubBaZzi3O"
      },
      "outputs": [],
      "source": [
        "driver = webdriver.Chrome(options = options)   # abre ventana\n",
        "\n",
        "driver.get(url+busqueda)          # entra en google y busca\n",
        "\n",
        "time.sleep(3)                     # espera 8 secs\n",
        "#XPATH copiado de chrome --> inspeccionar --> click derecho --> copy --> copy XPATH\n",
        "\n",
        "# XPATH --> //*[@id=\"W0wltc\"]\n",
        "\n",
        "driver.find_element(By.XPATH,'//*[@id=\"W0wltc\"]').click()  # clicka en rechazar\n",
        "\n",
        "time.sleep(3)\n",
        "\n",
        "driver.quit()"
      ]
    },
    {
      "cell_type": "markdown",
      "metadata": {
        "id": "ArQO8tANzlLM"
      },
      "source": [
        "Por CSS:"
      ]
    },
    {
      "cell_type": "code",
      "execution_count": 50,
      "metadata": {
        "id": "7SblnRyuznwC"
      },
      "outputs": [],
      "source": [
        "driver = webdriver.Chrome(options = options)   # abre ventana\n",
        "\n",
        "driver.get(url+busqueda)          # entra en google y busca\n",
        "\n",
        "time.sleep(3)                     # espera 8 secs\n",
        "#Miramos el CSS del botón de rechazar\n",
        "#Inspector --> botón derecho --> copy --> copy selector\n",
        "\n",
        "# #W0wltc\n",
        "\n",
        "driver.find_element(By.CSS_SELECTOR,'#W0wltc').click()  # clicka en rechazar\n",
        "#driver.find_element(By.CSS_SELECTOR,'button#W0wltc.tHlp8d').click()  # clicka en rechazar\n",
        "\n",
        "time.sleep(3)\n",
        "driver.quit()"
      ]
    },
    {
      "cell_type": "code",
      "execution_count": null,
      "metadata": {},
      "outputs": [],
      "source": [
        "#W0wltc"
      ]
    },
    {
      "cell_type": "markdown",
      "metadata": {
        "id": "AVVokuRfztIh"
      },
      "source": [
        "Scroll en ventanas\n",
        "\n",
        "Lo vamos a realizar con driver.execute_script(\"window.scrollTo(0, document.body.scrollHeight);\")\n",
        "\n",
        "Donde 0 es el eje x y document.body.scrollHeight es el eje y de la ventana.\n",
        "\n",
        "Ejemplo: queremos bajar hasta el final de la página y luego subir hasta el inicio en 3 pasos."
      ]
    },
    {
      "cell_type": "code",
      "execution_count": 51,
      "metadata": {
        "id": "07arJlIIzvc7"
      },
      "outputs": [],
      "source": [
        "driver = webdriver.Chrome(options = options)   # abre ventana\n",
        "\n",
        "driver.get(url+busqueda)          # entra en google y busca\n",
        "\n",
        "#Primero vamos a hacer scroll hasta el final de la página\n",
        "time.sleep(2)                     # espera 2 secs\n",
        "driver.find_element(By.CSS_SELECTOR,'#W0wltc').click()  # clicka en rechazar"
      ]
    },
    {
      "cell_type": "code",
      "execution_count": 52,
      "metadata": {
        "id": "LRSpoATozyQ7"
      },
      "outputs": [],
      "source": [
        "#Nos guardamos el alto de la página en una variable\n",
        "alto_pagina = driver.execute_script(\"return document.body.scrollHeight;\")\n",
        "\n",
        "#Bajamos hasta el final de la página\n",
        "driver.execute_script(\"window.scrollTo(0, document.body.scrollHeight);\") # todo el scroll"
      ]
    },
    {
      "cell_type": "code",
      "execution_count": 53,
      "metadata": {
        "id": "FBys2zgHz2jI"
      },
      "outputs": [
        {
          "data": {
            "text/plain": [
              "1973"
            ]
          },
          "execution_count": 53,
          "metadata": {},
          "output_type": "execute_result"
        }
      ],
      "source": [
        "alto_pagina"
      ]
    },
    {
      "cell_type": "code",
      "execution_count": 54,
      "metadata": {
        "id": "WbJwUrN7z4Zr"
      },
      "outputs": [],
      "source": [
        "#Vamos a subir hasta el principio de la página\n",
        "driver.execute_script(\"window.scrollTo(0, 0);\") # todo el scroll hasta la posición 0"
      ]
    },
    {
      "cell_type": "code",
      "execution_count": 55,
      "metadata": {
        "id": "K-wLNkeMz6j6"
      },
      "outputs": [],
      "source": [
        "#Vamos a bajar hasta el primer tercio de la página\n",
        "driver.execute_script(\"window.scrollTo(0, document.body.scrollHeight/3);\")\n",
        "alto_pagina_nuevo = driver.execute_script(\"return document.body.scrollHeight;\")\n",
        "#Tb podría hacerlo con la variable que me he guardado pero ojo con las divisiones, necesito f-strings\n",
        "#driver.execute_script(f\"window.scrollTo(0, {alto_pagina}/3);\" )\n",
        "time.sleep(5)\n",
        "driver.execute_script(f\"window.scrollTo(0, ({alto_pagina}*2)/3);\" )\n",
        "time.sleep(5)\n",
        "driver.execute_script(f\"window.scrollTo(0, {alto_pagina});\" )"
      ]
    },
    {
      "cell_type": "code",
      "execution_count": 56,
      "metadata": {
        "id": "fGHkpiYbz8_5"
      },
      "outputs": [
        {
          "data": {
            "text/plain": [
              "(1973, 1973)"
            ]
          },
          "execution_count": 56,
          "metadata": {},
          "output_type": "execute_result"
        }
      ],
      "source": [
        "alto_pagina, alto_pagina_nuevo"
      ]
    },
    {
      "cell_type": "code",
      "execution_count": 57,
      "metadata": {
        "id": "P5AwTnVoz_H1"
      },
      "outputs": [],
      "source": [
        "driver.quit()"
      ]
    },
    {
      "cell_type": "markdown",
      "metadata": {
        "id": "vHDHZye-0BA6"
      },
      "source": [
        "Vamos a centrarnos en la parte de resultados de videos:"
      ]
    },
    {
      "cell_type": "code",
      "execution_count": 58,
      "metadata": {
        "id": "MZ6AbMug0EjM"
      },
      "outputs": [],
      "source": [
        "driver = webdriver.Chrome(options = options)   # abre ventana\n",
        "\n",
        "driver.get(url+busqueda)          # entra en google y busca\n",
        "\n",
        "# Primero las cookies\n",
        "time.sleep(2)                     # espera 2 secs\n",
        "driver.find_element(By.CSS_SELECTOR,'#W0wltc').click()  # clicka en rechazar"
      ]
    },
    {
      "cell_type": "code",
      "execution_count": 59,
      "metadata": {
        "id": "fzI4LGeB0Hc6"
      },
      "outputs": [],
      "source": [
        "#Tengo que pinchar el boton de resultados de video:\n",
        "#Lo primero es buscar dónde se encuentran los botones:\n",
        "# Lo buscamos por SELECTOR --> div.crJ18e\n",
        "botones = driver.find_elements(By.CSS_SELECTOR,'div.crJ18e')\n",
        "\n",
        "# EN LA VERSION ANTERIOR\n",
        "#Voy a buscar un span con clases = 'FMKtTb UqcIvb' jsname = 'PIvPIe' y texto = 'Vídeos'\n",
        "#botones = driver.find_elements(By.CSS_SELECTOR,'span.FMKtTb.UqcIvb')"
      ]
    },
    {
      "cell_type": "code",
      "execution_count": 61,
      "metadata": {},
      "outputs": [
        {
          "data": {
            "text/plain": [
              "list"
            ]
          },
          "execution_count": 61,
          "metadata": {},
          "output_type": "execute_result"
        }
      ],
      "source": [
        "type(botones)"
      ]
    },
    {
      "cell_type": "code",
      "execution_count": 62,
      "metadata": {},
      "outputs": [
        {
          "data": {
            "text/plain": [
              "[<selenium.webdriver.remote.webelement.WebElement (session=\"96b7942f1483d969d7eae32b0cab5d65\", element=\"f.75C2C28162170FE622D8F53488E0DEF5.d.3266AE3212B010F994CE4FD06C7098D5.e.696\")>]"
            ]
          },
          "execution_count": 62,
          "metadata": {},
          "output_type": "execute_result"
        }
      ],
      "source": [
        "botones"
      ]
    },
    {
      "cell_type": "code",
      "execution_count": 63,
      "metadata": {
        "id": "L9rdpzv80KaP"
      },
      "outputs": [
        {
          "name": "stdout",
          "output_type": "stream",
          "text": [
            "Todo\n",
            "Noticias\n",
            "Imágenes\n",
            "Sitios web de empleo\n",
            "Productos\n",
            "Vídeos\n",
            "Libros\n",
            "Más\n"
          ]
        }
      ],
      "source": [
        "#Tenemos un monton de botones, vamos a verlos:\n",
        "for btn in botones:\n",
        "    print(btn.text)"
      ]
    },
    {
      "cell_type": "markdown",
      "metadata": {
        "id": "ZDeDy88t0M8R"
      },
      "source": [
        "### Traducciones de XPATHs:\n",
        "\n",
        "``//*[@id=\"bqHHPb\"]/div/div/div[1]/a[2]/div/span``\n",
        "\n",
        "*[@id=\"bqHHPb\"] --> cualquier elemento que tenga un atributo id con valor bqHHPb\n",
        "\n",
        "/div --> cualquier elemento que sea hijo de un elemento div\n",
        "\n",
        "/div --> cualquier elemento que sea hijo de un elemento div\n",
        "\n",
        "[1] --> el primer elemento de la lista\n",
        "\n",
        "/a[2] --> el segundo elemento de la lista\n",
        "\n",
        "/div --> cualquier elemento que sea hijo de un elemento div\n",
        "\n",
        "/span --> cualquier elemento que sea hijo de un elemento span"
      ]
    },
    {
      "cell_type": "code",
      "execution_count": 64,
      "metadata": {
        "id": "c94aGzla0QdO"
      },
      "outputs": [
        {
          "name": "stdout",
          "output_type": "stream",
          "text": [
            "Vídeos\n"
          ]
        }
      ],
      "source": [
        "#Vamos a ser más específicos a la hora de buscar el botón\n",
        "#//*[@id=\"hdtb-sc\"]/div/div/div[1]/div[4]/a/div\n",
        "boton_video = driver.find_element(By.XPATH, \"//div[contains(text(),'Vídeos')]\")\n",
        "print(boton_video.text)\n",
        "time.sleep(2)\n",
        "boton_video.click()"
      ]
    },
    {
      "cell_type": "code",
      "execution_count": 65,
      "metadata": {},
      "outputs": [],
      "source": [
        "driver.back()"
      ]
    },
    {
      "cell_type": "code",
      "execution_count": 66,
      "metadata": {},
      "outputs": [],
      "source": [
        "boton_noticias = driver.find_element(By.XPATH, '//*[@id=\"hdtb-sc\"]/div/div[1]/div[1]/div/div[2]')\n",
        "boton_noticias.click()"
      ]
    },
    {
      "cell_type": "code",
      "execution_count": 67,
      "metadata": {
        "id": "pkk4XndH0WAa"
      },
      "outputs": [],
      "source": [
        "driver.quit()"
      ]
    },
    {
      "cell_type": "markdown",
      "metadata": {
        "id": "pBGo-Emc0ea_"
      },
      "source": [
        "### EJERCICIO\n",
        "Vamos a hacer un pequeño ejercicio, vamos a buscar en google un término de busqueda 'pesca en Madrid'.\n",
        "\n",
        "Una vez cargada la página haz click en el botón de vídeos. Coge todos los resultados y accede al link de href para tener los links a los vídeos. Almacena todos los links en una lista."
      ]
    },
    {
      "cell_type": "code",
      "execution_count": 69,
      "metadata": {},
      "outputs": [],
      "source": [
        "driver.quit()"
      ]
    },
    {
      "cell_type": "code",
      "execution_count": 70,
      "metadata": {
        "id": "UR9Bar6BOW8V"
      },
      "outputs": [
        {
          "name": "stdout",
          "output_type": "stream",
          "text": [
            "Tengo 10 vídeos\n",
            "https://www.youtube.com/watch?v=rASMJhA7t9I\n",
            "https://www.youtube.com/watch?v=n0y5nyekTUs\n",
            "https://www.youtube.com/watch?v=DTgo5R3wIQ0\n",
            "https://www.youtube.com/playlist?list=PLBLF7mUd94Z7Toq7q2P_wA9uETD2bwIt_\n",
            "https://www.youtube.com/watch?v=6HRrJ0x5E00\n",
            "https://www.youtube.com/watch?v=pN92XCzvXI8\n",
            "https://www.youtube.com/channel/UCkqdVZbGpqu5KVHjplVHlgA\n",
            "https://www.youtube.com/watch?v=688LZ6DasHo\n",
            "https://www.youtube.com/playlist?list=PLbmHi4wsyuJHc8t7mzqTZZ9fWWDQj62AM\n",
            "https://www.youtube.com/watch?v=4Ug_cJLpchU\n"
          ]
        }
      ],
      "source": [
        "# voy a buscar vídeos de pesca en madrid\n",
        "busqueda = 'pesca en madrid'\n",
        "resultado_videos = []                          #Aquí meteré mis resultados\n",
        "url = 'https://www.google.es/search?q='\n",
        "driver = webdriver.Chrome(options = options)   # abre ventana\n",
        "driver.get(url+busqueda)                       # entra en google y busca\n",
        "time.sleep(1)                                  # espera 2 secs\n",
        "\n",
        "# click en rechazar\n",
        "driver.find_element(By.CSS_SELECTOR,'#W0wltc').click()  # clicka en rechazar\n",
        "time.sleep(1)\n",
        "\n",
        "# click en el botón de vídeos\n",
        "driver.find_element(By.XPATH, '//*[@id=\"hdtb-sc\"]/div/div[1]/div[1]/div/div[2]').click()\n",
        "time.sleep(2)\n",
        "\n",
        "#Buscamos los videos,Están en un div con ID = 'search'\n",
        "resultados = driver.find_element(By.ID, 'search')\n",
        "resultados\n",
        "\n",
        "#Busco dentro de resultados todos los elementos que sean a con atributo jsname = 'UWckNb'\n",
        "# a es la etiqueta\n",
        "# [jsname=\"UWckNb\"] es lo que tiene que coger\n",
        "videos = resultados.find_elements(By.CSS_SELECTOR, 'a[jsname=\"UWckNb\"]')\n",
        "print(f'Tengo {videos.__len__()} vídeos')\n",
        "\n",
        "#Vemos el href que contiene cada uno de esos a:\n",
        "for video in videos:\n",
        "    print(video.get_attribute('href'))\n",
        "    resultado_videos.append(video.get_attribute('href'))\n",
        "\n",
        "driver.quit()"
      ]
    },
    {
      "cell_type": "code",
      "execution_count": 71,
      "metadata": {
        "id": "0exQJujo0d7g"
      },
      "outputs": [
        {
          "data": {
            "text/plain": [
              "['https://www.youtube.com/watch?v=rASMJhA7t9I',\n",
              " 'https://www.youtube.com/watch?v=n0y5nyekTUs',\n",
              " 'https://www.youtube.com/watch?v=DTgo5R3wIQ0',\n",
              " 'https://www.youtube.com/playlist?list=PLBLF7mUd94Z7Toq7q2P_wA9uETD2bwIt_',\n",
              " 'https://www.youtube.com/watch?v=6HRrJ0x5E00',\n",
              " 'https://www.youtube.com/watch?v=pN92XCzvXI8',\n",
              " 'https://www.youtube.com/channel/UCkqdVZbGpqu5KVHjplVHlgA',\n",
              " 'https://www.youtube.com/watch?v=688LZ6DasHo',\n",
              " 'https://www.youtube.com/playlist?list=PLbmHi4wsyuJHc8t7mzqTZZ9fWWDQj62AM',\n",
              " 'https://www.youtube.com/watch?v=4Ug_cJLpchU']"
            ]
          },
          "execution_count": 71,
          "metadata": {},
          "output_type": "execute_result"
        }
      ],
      "source": [
        "resultado_videos"
      ]
    },
    {
      "cell_type": "code",
      "execution_count": null,
      "metadata": {},
      "outputs": [],
      "source": []
    }
  ],
  "metadata": {
    "colab": {
      "provenance": []
    },
    "kernelspec": {
      "display_name": "gamma",
      "language": "python",
      "name": "python3"
    },
    "language_info": {
      "codemirror_mode": {
        "name": "ipython",
        "version": 3
      },
      "file_extension": ".py",
      "mimetype": "text/x-python",
      "name": "python",
      "nbconvert_exporter": "python",
      "pygments_lexer": "ipython3",
      "version": "3.11.9"
    },
    "varInspector": {
      "cols": {
        "lenName": 16,
        "lenType": 16,
        "lenVar": 40
      },
      "kernels_config": {
        "python": {
          "delete_cmd_postfix": "",
          "delete_cmd_prefix": "del ",
          "library": "var_list.py",
          "varRefreshCmd": "print(var_dic_list())"
        },
        "r": {
          "delete_cmd_postfix": ") ",
          "delete_cmd_prefix": "rm(",
          "library": "var_list.r",
          "varRefreshCmd": "cat(var_dic_list()) "
        }
      },
      "types_to_exclude": [
        "module",
        "function",
        "builtin_function_or_method",
        "instance",
        "_Feature"
      ],
      "window_display": false
    }
  },
  "nbformat": 4,
  "nbformat_minor": 0
}
