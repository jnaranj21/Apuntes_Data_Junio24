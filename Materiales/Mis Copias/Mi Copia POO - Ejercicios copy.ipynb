{
 "cells": [
  {
   "cell_type": "markdown",
   "metadata": {},
   "source": [
    "# Agenda\n",
    "Realizar una clase que administre una `agenda`. Se debe almacenar para cada contacto el nombre, el teléfono y el email. Además deberá mostrar un menú con las siguientes opciones:\n",
    "\n",
    "- Añadir contacto\n",
    "- Lista de contactos\n",
    "- Buscar contacto\n",
    "- Editar contacto\n",
    "- Cerrar agenda"
   ]
  },
  {
   "cell_type": "code",
   "execution_count": 65,
   "metadata": {},
   "outputs": [],
   "source": [
    "class Agenda():\n",
    "\t__lista_contactos = []\n",
    "\tdef __init__(self, usuario):\n",
    "\t\tself.nombre = usuario\n",
    "\t\tprint(f'Se ha creado tu agenda, {self.nombre}')\n",
    "\n",
    "\tdef añadir_contacto(self, contacto, telefono, email):\n",
    "\t\tdicc_contactos = {}\n",
    "\t\tself.contacto = contacto\n",
    "\t\tself.telefono = telefono\n",
    "\t\tself.email = email\n",
    "\n",
    "\t\tdicc_contactos['nombre'] = contacto\n",
    "\t\tdicc_contactos['telefono'] = telefono\n",
    "\t\tdicc_contactos['email'] = email\n",
    "\n",
    "\t\tif dicc_contactos not in self.__lista_contactos:\n",
    "\t\t\tself.__lista_contactos.append(dicc_contactos)\n",
    "\t\t\tprint(f'{self.contacto} ha sido añadid@ a tu agenda')\n",
    "\t\telse:\n",
    "\t\t\tprint('El contacto que intentas añadir ya existe en tu agenda')\n",
    "\n",
    "\tdef lista_contactos(self):\n",
    "\t\tprint(f'tu lista de contactos:\\n {self.__lista_contactos}')\n",
    "\t\n",
    "\tdef ext_agenda(self):\n",
    "\t\tprint(f'Tienes {len(self.__lista_contactos)} contactos en tu agenda')\n",
    "\n",
    "\tdef buscar_contacto(self, termino_busqueda):\n",
    "\t\tself.termino_busqueda = termino_busqueda\n",
    "\t\tif termino_busqueda in \n",
    "\t\t\n"
   ]
  },
  {
   "cell_type": "code",
   "execution_count": 66,
   "metadata": {},
   "outputs": [
    {
     "name": "stdout",
     "output_type": "stream",
     "text": [
      "Se ha creado tu agenda, JJ\n",
      "tu lista de contactos:\n",
      " []\n"
     ]
    }
   ],
   "source": [
    "mi_agenda = Agenda('JJ')\n",
    "mi_agenda.lista_contactos()"
   ]
  },
  {
   "cell_type": "code",
   "execution_count": 68,
   "metadata": {},
   "outputs": [
    {
     "name": "stdout",
     "output_type": "stream",
     "text": [
      "El contacto que intentas añadir ya existe en tu agenda\n"
     ]
    }
   ],
   "source": [
    "mi_agenda.añadir_contacto('Yaz',624575859,'yas.siglo@yx.com')"
   ]
  },
  {
   "cell_type": "code",
   "execution_count": 70,
   "metadata": {},
   "outputs": [
    {
     "name": "stdout",
     "output_type": "stream",
     "text": [
      "El contacto que intentas añadir ya existe en tu agenda\n"
     ]
    }
   ],
   "source": [
    "mi_agenda.añadir_contacto('Inna',635352416,'inna.siglo@xy.com')"
   ]
  },
  {
   "cell_type": "code",
   "execution_count": 71,
   "metadata": {},
   "outputs": [
    {
     "name": "stdout",
     "output_type": "stream",
     "text": [
      "tu lista de contactos:\n",
      " [{'nombre': 'Yaz', 'telefono': 624575859, 'email': 'yas.siglo@yx.com'}, {'nombre': 'Inna', 'telefono': 635352416, 'email': 'inna.siglo@xy.com'}]\n"
     ]
    }
   ],
   "source": [
    "mi_agenda.lista_contactos()"
   ]
  },
  {
   "cell_type": "code",
   "execution_count": 72,
   "metadata": {},
   "outputs": [
    {
     "name": "stdout",
     "output_type": "stream",
     "text": [
      "Tienes 2 contactos en tu agenda\n"
     ]
    }
   ],
   "source": [
    "mi_agenda.ext_agenda()"
   ]
  },
  {
   "cell_type": "code",
   "execution_count": 81,
   "metadata": {},
   "outputs": [
    {
     "data": {
      "text/plain": [
       "[{'a': 1, 'b': 2}, {'c': 3, 'd': 4}]"
      ]
     },
     "execution_count": 81,
     "metadata": {},
     "output_type": "execute_result"
    }
   ],
   "source": [
    "dicc = {'a':1, 'b':2}\n",
    "dicc_2 = {'c':3, 'd':4}\n",
    "lista = []\n",
    "lista.append(dicc)\n",
    "lista.append(dicc_2)\n",
    "lista"
   ]
  },
  {
   "cell_type": "code",
   "execution_count": 85,
   "metadata": {},
   "outputs": [
    {
     "data": {
      "text/plain": [
       "False"
      ]
     },
     "execution_count": 85,
     "metadata": {},
     "output_type": "execute_result"
    }
   ],
   "source": [
    "'a' in lista"
   ]
  },
  {
   "cell_type": "markdown",
   "metadata": {},
   "source": [
    "# Banco\n",
    "En un banco tienen clientes que pueden hacer **depósitos** y **extracciones** de dinero. El banco requiere también al final del día calcular la cantidad de dinero que se ha depositado.\n",
    "\n",
    "Se deberán crear **dos clases**, la clase `cliente` y la clase `banco`. La clase **cliente** tendrá los atributos `nombre` y `cantidad` y los métodos `__init__`, `depositar`, `extraer`, `mostrar_total`.\n",
    "\n",
    "La clase **banco** tendrá como atributos 3 objetos de la clase cliente y los métodos `__init__`, `operar` y `deposito_total`."
   ]
  },
  {
   "cell_type": "code",
   "execution_count": null,
   "metadata": {},
   "outputs": [],
   "source": []
  },
  {
   "cell_type": "markdown",
   "metadata": {},
   "source": [
    "# Cuentas ahorro\n",
    "Desarrollar un programa que conste de una **clase padre** `Cuenta` y **dos subclases** `PlazoFijo` y `CajaAhorro`. Definir los **atributos** `titular` y `cantidad` y un **método** para `imprimir` los datos en la clase Cuenta. La **clase CajaAhorro** tendrá un método para heredar los datos y uno para mostrar la información.\n",
    "\n",
    "La **clase PlazoFijo** tendrá dos atributos propios, `plazo` e `interés`. Tendrá un método para obtener el importe del interés (cantidad*interés/100) y otro método para mostrar la información, datos del titular plazo, interés y total de interés.\n",
    "\n",
    "Crear al menos un objeto de cada subclase."
   ]
  },
  {
   "cell_type": "code",
   "execution_count": null,
   "metadata": {},
   "outputs": [],
   "source": []
  }
 ],
 "metadata": {
  "kernelspec": {
   "display_name": "Python 3",
   "language": "python",
   "name": "python3"
  },
  "language_info": {
   "codemirror_mode": {
    "name": "ipython",
    "version": 3
   },
   "file_extension": ".py",
   "mimetype": "text/x-python",
   "name": "python",
   "nbconvert_exporter": "python",
   "pygments_lexer": "ipython3",
   "version": "3.11.9"
  }
 },
 "nbformat": 4,
 "nbformat_minor": 2
}
