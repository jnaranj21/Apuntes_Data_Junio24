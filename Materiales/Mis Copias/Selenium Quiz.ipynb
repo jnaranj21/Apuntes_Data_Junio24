{
 "cells": [
  {
   "cell_type": "code",
   "execution_count": 25,
   "metadata": {},
   "outputs": [],
   "source": [
    "from selenium.webdriver.support.ui import WebDriverWait   # para meter esperaras\n",
    "from selenium.webdriver.support import expected_conditions as EC   # para esperar ciertos eventos\n",
    "from selenium.webdriver import ActionChains # para hacer acciones con el ratón\n",
    "import time\n",
    "import random\n",
    "import selenium.webdriver.common.keys as Keys # para simular teclas\n",
    "from selenium import webdriver\n",
    "from webdriver_manager.chrome import ChromeDriverManager # sustituye al archivo\n",
    "from selenium.webdriver.chrome.options import Options # opciones de chrome\n",
    "from selenium.webdriver.common.by import By # By es para buscar por tag, clase, id...\n",
    "from dotenv import load_dotenv\n",
    "import os"
   ]
  },
  {
   "cell_type": "code",
   "execution_count": 21,
   "metadata": {},
   "outputs": [],
   "source": [
    "#opciones de chrome\n",
    "opciones = webdriver.ChromeOptions()\n",
    "#opciones.add_argument('--start-maximized')\n",
    "opciones.add_argument('window-size=775,1400')\n",
    "opciones.add_argument('--disable-extensions')\n",
    "opciones.add_argument('--disable-blink-features=AutomationControlled')\n",
    "opciones.add_argument('--no-sandbox')\n",
    "opciones.add_argument(\"--disable-dev-shm-usage\")\n",
    "opciones.add_experimental_option('useAutomationExtension', False)\n",
    "opciones.add_experimental_option('excludeSwitches', ['enable-automation'])\n",
    "# Deshabilita la ventana emergente de selección del buscador\n",
    "opciones.add_argument(\"--no-default-browser-check\")\n",
    "opciones.add_argument(\"--disable-search-engine-choice-screen\")\n",
    "# Evitar mensajes emergentes automáticos de configuración\n",
    "opciones.add_argument(\"--disable-infobars\")\n",
    "\n",
    "url = 'https://forms.gle/7jKq7vHV7V1R3NbR8' \n",
    "driver = webdriver.Chrome(options=opciones)\n",
    "driver.get(url)\n",
    "time.sleep(random.uniform(1,3))\n",
    "\n",
    "#load_dotenv()\n",
    "usuario = os.getenv('user')\n",
    "clave = os.getenv('password')\n",
    "\n",
    "input_user = driver.find_element(By.TAG_NAME, 'input')\n",
    "\n",
    "for letra in usuario:\n",
    "    input_user.send_keys(letra)\n",
    "    time.sleep(random.uniform(0.1,0.25))\n",
    "input_user.submit()\n",
    "time.sleep(random.uniform(0.5,1.5))\n",
    "\n",
    "next = driver.find_element(By.XPATH, '//*[@id=\"identifierNext\"]/div/button/span')\n",
    "next.click()\n",
    "time.sleep(random.uniform(1,3))\n",
    "\n",
    "input_password = driver.find_element(By.XPATH, '//*[@id=\"password\"]/div[1]/div/div[1]/input')\n",
    "\n",
    "for char in clave:\n",
    "    input_password.send_keys(char)\n",
    "    time.sleep(random.uniform(0.1,0.25))\n",
    "input_password.submit()\n",
    "time.sleep(random.uniform(0.5,1.5))\n",
    "\n",
    "next_2 = driver.find_element(By.XPATH, '//*[@id=\"passwordNext\"]/div/button/span')\n",
    "next_2.click()\n",
    "time.sleep(random.uniform(1,3))\n",
    "\n",
    "#me clickea antes de hacer scroll???\n",
    "record_email_box = driver.find_element(By.XPATH, '//*[@id=\"i5\"]/div[2]')\n",
    "driver.execute_script(\"arguments[0].click();\", record_email_box)\n",
    "time.sleep(random.uniform(1,3))\n",
    "\n",
    "driver.execute_script(\"window.scrollTo(0, document.body.scrollHeight/5);\")\n",
    "time.sleep(random.uniform(1,3))\n",
    "\n",
    "all_options_box = driver.find_element(By.XPATH, '//*[@id=\"i21\"]/div[3]/div')\n",
    "all_options_box.click()\n",
    "time.sleep(random.uniform(1,3))\n",
    "\n",
    "# driver.execute_script(\"window.scrollTo(0, 0);\")\n",
    "driver.execute_script(\"window.scrollTo(0, document.body.scrollHeight);\")\n",
    "time.sleep(random.uniform(0.5,1.5))\n",
    "\n",
    "next_3 = driver.find_element(By.XPATH, '//*[@id=\"mG61Hd\"]/div[2]/div/div[3]/div[1]/div[1]/div/span/span')\n",
    "next_3.click()\n",
    "time.sleep(random.uniform(1,3))\n",
    "\n",
    "score_5 = driver.find_element(By.XPATH, '//*[@id=\"mG61Hd\"]/div[2]/div/div[2]/div[2]/div/div/div[2]/div/span/div/label[5]/div[2]/div/div/div[3]/div')\n",
    "score_5.click()\n",
    "time.sleep(random.uniform(1,3))\n",
    "\n",
    "raya_1 = driver.find_element(By.XPATH, '//*[@id=\"mG61Hd\"]/div[2]/div/div[2]/div[3]/div/div/div[2]/div/div[1]/div/div[2]/label[1]/div/div/div[2]')\n",
    "driver.execute_script(\"arguments[0].click();\", raya_1)\n",
    "time.sleep(random.uniform(0.5,1.5))\n",
    "\n",
    "raya_2 = driver.find_element(By.XPATH, '//*[@id=\"mG61Hd\"]/div[2]/div/div[2]/div[3]/div/div/div[2]/div/div[1]/div/div[4]/label[2]/div/div/div[2]')\n",
    "driver.execute_script(\"arguments[0].click();\", raya_2)\n",
    "time.sleep(random.uniform(0.5,1.5))\n",
    "\n",
    "driver.execute_script(\"window.scrollTo(0, document.body.scrollHeight/2);\")\n",
    "time.sleep(random.uniform(1,3))\n",
    "\n",
    "raya_3 = driver.find_element(By.XPATH, '//*[@id=\"mG61Hd\"]/div[2]/div/div[2]/div[3]/div/div/div[2]/div/div[1]/div/div[6]/label[3]/div/div/div[2]')\n",
    "driver.execute_script(\"arguments[0].click();\", raya_3)\n",
    "time.sleep(random.uniform(1,3))\n",
    "\n",
    "choose_option = driver.find_element(By.XPATH, '//*[@id=\"mG61Hd\"]/div[2]/div/div[2]/div[4]/div/div/div[2]/div/div[1]/div[1]/div[1]/div')\n",
    "driver.execute_script(\"arguments[0].click();\", choose_option)\n",
    "time.sleep(random.uniform(0.5,1.5))\n",
    "\n",
    "almost_option = driver.find_element(By.XPATH, '//*[@id=\"mG61Hd\"]/div[2]/div/div[2]/div[4]/div/div/div[2]/div/div[2]/div[5]/div')\n",
    "driver.execute_script(\"arguments[0].click();\", almost_option)"
   ]
  },
  {
   "cell_type": "code",
   "execution_count": 138,
   "metadata": {},
   "outputs": [],
   "source": [
    "\n",
    "\n"
   ]
  },
  {
   "cell_type": "code",
   "execution_count": 137,
   "metadata": {},
   "outputs": [],
   "source": [
    "\n",
    "\n"
   ]
  },
  {
   "cell_type": "code",
   "execution_count": 112,
   "metadata": {},
   "outputs": [],
   "source": [
    "\n"
   ]
  },
  {
   "cell_type": "code",
   "execution_count": 77,
   "metadata": {},
   "outputs": [],
   "source": [
    "\n"
   ]
  },
  {
   "cell_type": "code",
   "execution_count": 45,
   "metadata": {},
   "outputs": [],
   "source": [
    "\n"
   ]
  },
  {
   "cell_type": "code",
   "execution_count": 46,
   "metadata": {},
   "outputs": [],
   "source": []
  },
  {
   "cell_type": "code",
   "execution_count": 47,
   "metadata": {},
   "outputs": [],
   "source": []
  }
 ],
 "metadata": {
  "kernelspec": {
   "display_name": "Python 3",
   "language": "python",
   "name": "python3"
  },
  "language_info": {
   "codemirror_mode": {
    "name": "ipython",
    "version": 3
   },
   "file_extension": ".py",
   "mimetype": "text/x-python",
   "name": "python",
   "nbconvert_exporter": "python",
   "pygments_lexer": "ipython3",
   "version": "3.11.9"
  }
 },
 "nbformat": 4,
 "nbformat_minor": 2
}
