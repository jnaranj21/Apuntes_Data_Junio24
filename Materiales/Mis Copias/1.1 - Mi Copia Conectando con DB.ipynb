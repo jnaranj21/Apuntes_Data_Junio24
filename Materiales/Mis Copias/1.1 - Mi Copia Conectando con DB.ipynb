{
  "cells": [
    {
      "cell_type": "markdown",
      "metadata": {
        "id": "CBwmwyFvNP3j"
      },
      "source": [
        "# BASES DE DATOS CON PYTHON\n",
        "\n",
        "![Python](https://memgraph.com/images/blog/in-memory-databases-that-work-great-with-python/cover.png)"
      ]
    },
    {
      "cell_type": "markdown",
      "metadata": {
        "id": "C18T7VejNP3l"
      },
      "source": [
        "### 1 - Introducción\n",
        "\n",
        "Desde Python podemos interactuar con distintos tipos de bases de datos, ya sean **relacionales** o **no relacionales**. \n",
        "\n",
        "Para ello, existen distintas **librerías** que nos permiten realizar operaciones `CRUD` (lectura, escritura, actualización y borrado) sobre las bases de datos.\n",
        "\n",
        "Vamos a ver las más comunes y más sencillas por las que podemos empezar a trabajar con bases de datos desde Python.\n",
        "\n",
        "### 2 - MySQL Connector\n",
        "Primera librería que vamos a ver es `mysql-connector-python`. Para instalarla, ejecutamos el siguiente comando:\n",
        "\n",
        "```bash\n",
        "!pip install mysql-connector-python\n",
        "```"
      ]
    },
    {
      "cell_type": "code",
      "execution_count": 6,
      "metadata": {
        "id": "O9l9JuSMNP3m"
      },
      "outputs": [
        {
          "name": "stdout",
          "output_type": "stream",
          "text": [
            "Collecting mysql-connector-python\n",
            "  Downloading mysql_connector_python-9.0.0-cp311-cp311-win_amd64.whl.metadata (2.0 kB)\n",
            "Downloading mysql_connector_python-9.0.0-cp311-cp311-win_amd64.whl (14.3 MB)\n",
            "   ---------------------------------------- 0.0/14.3 MB ? eta -:--:--\n",
            "   ---------------------------------------- 0.0/14.3 MB ? eta -:--:--\n",
            "   ---------------------------------------- 0.0/14.3 MB 435.7 kB/s eta 0:00:33\n",
            "    --------------------------------------- 0.3/14.3 MB 2.7 MB/s eta 0:00:06\n",
            "   -- ------------------------------------- 0.8/14.3 MB 5.3 MB/s eta 0:00:03\n",
            "   --- ------------------------------------ 1.4/14.3 MB 6.9 MB/s eta 0:00:02\n",
            "   ----- ---------------------------------- 2.0/14.3 MB 7.8 MB/s eta 0:00:02\n",
            "   ------ --------------------------------- 2.5/14.3 MB 8.4 MB/s eta 0:00:02\n",
            "   -------- ------------------------------- 3.1/14.3 MB 8.9 MB/s eta 0:00:02\n",
            "   --------- ------------------------------ 3.5/14.3 MB 9.4 MB/s eta 0:00:02\n",
            "   ----------- ---------------------------- 4.1/14.3 MB 9.4 MB/s eta 0:00:02\n",
            "   ------------- -------------------------- 4.7/14.3 MB 9.7 MB/s eta 0:00:01\n",
            "   -------------- ------------------------- 5.2/14.3 MB 9.8 MB/s eta 0:00:01\n",
            "   ---------------- ----------------------- 5.8/14.3 MB 10.0 MB/s eta 0:00:01\n",
            "   ----------------- ---------------------- 6.4/14.3 MB 10.2 MB/s eta 0:00:01\n",
            "   ------------------- -------------------- 6.9/14.3 MB 10.2 MB/s eta 0:00:01\n",
            "   -------------------- ------------------- 7.4/14.3 MB 10.5 MB/s eta 0:00:01\n",
            "   ---------------------- ----------------- 8.0/14.3 MB 10.5 MB/s eta 0:00:01\n",
            "   ----------------------- ---------------- 8.5/14.3 MB 10.7 MB/s eta 0:00:01\n",
            "   ------------------------- -------------- 9.1/14.3 MB 10.6 MB/s eta 0:00:01\n",
            "   -------------------------- ------------- 9.7/14.3 MB 10.6 MB/s eta 0:00:01\n",
            "   ---------------------------- ----------- 10.2/14.3 MB 10.7 MB/s eta 0:00:01\n",
            "   ------------------------------ --------- 10.8/14.3 MB 11.7 MB/s eta 0:00:01\n",
            "   ------------------------------- -------- 11.3/14.3 MB 11.7 MB/s eta 0:00:01\n",
            "   --------------------------------- ------ 11.9/14.3 MB 11.7 MB/s eta 0:00:01\n",
            "   ---------------------------------- ----- 12.4/14.3 MB 11.7 MB/s eta 0:00:01\n",
            "   ------------------------------------ --- 13.0/14.3 MB 11.7 MB/s eta 0:00:01\n",
            "   ------------------------------------- -- 13.5/14.3 MB 11.7 MB/s eta 0:00:01\n",
            "   ---------------------------------------  14.1/14.3 MB 11.7 MB/s eta 0:00:01\n",
            "   ---------------------------------------  14.3/14.3 MB 11.7 MB/s eta 0:00:01\n",
            "   ---------------------------------------- 14.3/14.3 MB 11.3 MB/s eta 0:00:00\n",
            "Installing collected packages: mysql-connector-python\n",
            "Successfully installed mysql-connector-python-9.0.0\n"
          ]
        },
        {
          "name": "stderr",
          "output_type": "stream",
          "text": [
            "\n",
            "[notice] A new release of pip is available: 24.0 -> 24.2\n",
            "[notice] To update, run: C:\\Users\\juane\\AppData\\Local\\Microsoft\\WindowsApps\\PythonSoftwareFoundation.Python.3.11_qbz5n2kfra8p0\\python.exe -m pip install --upgrade pip\n"
          ]
        }
      ],
      "source": [
        "#instalamos la librería en caso de que no la tengamos\n",
        "! pip install mysql-connector-python"
      ]
    },
    {
      "cell_type": "code",
      "execution_count": 7,
      "metadata": {
        "id": "1KuTuSaNNP3n"
      },
      "outputs": [],
      "source": [
        "import mysql.connector as conn #Alias no estándar, pero muy usado (connection --> conexión)"
      ]
    },
    {
      "cell_type": "markdown",
      "metadata": {
        "id": "D4Z3u_N3NP3n"
      },
      "source": [
        "Vamos a trabajar con `MySQL` en nuestro **localhost**, es decir una base de datos local en nuestro **propio ordenador**.\n",
        "\n",
        "Para empezar a trabajar con MySQL desde Python tendremos que darle la información de :\n",
        "- `Host`: Donde queremos conectarnos (ya sea local o remota)\n",
        "- `Usuario` que se va a conectar\n",
        "- `Credenciales` del usuario\n",
        "- `Nombre` de la base de datos a la que nos queremos conectar (si nuestro usuario tiene acceso a varias bases de datos)\n",
        "- `Puerto` de conexión (No siempre es necesario)"
      ]
    },
    {
      "cell_type": "markdown",
      "metadata": {
        "id": "bZ8j274HNP3o"
      },
      "source": [
        "```python\n",
        "mydb = conn.connect(\n",
        "  host=\"localhost\", #Si no es local, ponemos la IP de la máquina\n",
        "  user=\"root\",\n",
        "  passwd =\"contraseña\", #Nuestra contraseña para acceder a mysql\n",
        "  database=\"BasedeDatos\" #Si queremos conectarnos a una base de datos en concreto, sino entraremos a la raíz\n",
        ")\n",
        "cursor=mydb.cursor() #Creamos un cursor para poder ejecutar comandos, un cursor es un objeto que nos permite interactuar con la base de datos\n",
        "```"
      ]
    },
    {
      "cell_type": "markdown",
      "metadata": {},
      "source": [
        "#### 2.1 - Como SÍ cargar los datos de la conexión"
      ]
    },
    {
      "cell_type": "code",
      "execution_count": 15,
      "metadata": {
        "id": "r8gFIPq754_E"
      },
      "outputs": [
        {
          "data": {
            "text/plain": [
              "True"
            ]
          },
          "execution_count": 15,
          "metadata": {},
          "output_type": "execute_result"
        }
      ],
      "source": [
        "import os\n",
        "from dotenv import load_dotenv\n",
        "load_dotenv()"
      ]
    },
    {
      "cell_type": "code",
      "execution_count": 4,
      "metadata": {},
      "outputs": [],
      "source": [
        "#Creamos fichero .env\n",
        "#Comprobamos que lo leemos correctamente"
      ]
    },
    {
      "cell_type": "markdown",
      "metadata": {
        "id": "vY6OlNJHcsPJ"
      },
      "source": [
        "Cuidado con cómo creamos el archivo .env:\n",
        "```\n",
        "variable=valor_de_la_variable\n",
        "```\n",
        "\n",
        "Sin espacios, sin comas (a no ser que las comas formen parte del valor de la variable) y con cuidado con los comentarios."
      ]
    },
    {
      "cell_type": "code",
      "execution_count": 17,
      "metadata": {
        "id": "eHjfOZ9J54_F"
      },
      "outputs": [
        {
          "ename": "ProgrammingError",
          "evalue": "1045 (28000): Access denied for user 'juanjose.naranjo@students.gammatech.school'@'localhost' (using password: YES)",
          "output_type": "error",
          "traceback": [
            "\u001b[1;31m---------------------------------------------------------------------------\u001b[0m",
            "\u001b[1;31mProgrammingError\u001b[0m                          Traceback (most recent call last)",
            "Cell \u001b[1;32mIn[17], line 2\u001b[0m\n\u001b[0;32m      1\u001b[0m \u001b[38;5;66;03m#Ahora puedo montar mi motor sin exponer credenciales ni detalles de la conexión, lo cargamos todo desde el fichero dotenv\u001b[39;00m\n\u001b[1;32m----> 2\u001b[0m mydb \u001b[38;5;241m=\u001b[39m \u001b[43mconn\u001b[49m\u001b[38;5;241;43m.\u001b[39;49m\u001b[43mconnect\u001b[49m\u001b[43m(\u001b[49m\n\u001b[0;32m      3\u001b[0m \u001b[43m    \u001b[49m\u001b[43mhost\u001b[49m\u001b[43m \u001b[49m\u001b[38;5;241;43m=\u001b[39;49m\u001b[43m \u001b[49m\u001b[43mos\u001b[49m\u001b[38;5;241;43m.\u001b[39;49m\u001b[43mgetenv\u001b[49m\u001b[43m(\u001b[49m\u001b[38;5;124;43m'\u001b[39;49m\u001b[38;5;124;43mhost\u001b[39;49m\u001b[38;5;124;43m'\u001b[39;49m\u001b[43m)\u001b[49m\u001b[43m,\u001b[49m\n\u001b[0;32m      4\u001b[0m \u001b[43m    \u001b[49m\u001b[43mpassword\u001b[49m\u001b[43m \u001b[49m\u001b[38;5;241;43m=\u001b[39;49m\u001b[43m \u001b[49m\u001b[43mos\u001b[49m\u001b[38;5;241;43m.\u001b[39;49m\u001b[43mgetenv\u001b[49m\u001b[43m(\u001b[49m\u001b[38;5;124;43m'\u001b[39;49m\u001b[38;5;124;43mpassword\u001b[39;49m\u001b[38;5;124;43m'\u001b[39;49m\u001b[43m)\u001b[49m\u001b[43m,\u001b[49m\n\u001b[0;32m      5\u001b[0m \u001b[43m    \u001b[49m\u001b[38;5;66;43;03m#database = os.getenv('db'),\u001b[39;49;00m\n\u001b[0;32m      6\u001b[0m \u001b[43m    \u001b[49m\u001b[43muser\u001b[49m\u001b[43m \u001b[49m\u001b[38;5;241;43m=\u001b[39;49m\u001b[43m \u001b[49m\u001b[43mos\u001b[49m\u001b[38;5;241;43m.\u001b[39;49m\u001b[43mgetenv\u001b[49m\u001b[43m(\u001b[49m\u001b[38;5;124;43m'\u001b[39;49m\u001b[38;5;124;43muser\u001b[39;49m\u001b[38;5;124;43m'\u001b[39;49m\u001b[43m)\u001b[49m\u001b[43m,\u001b[49m\n\u001b[0;32m      7\u001b[0m \u001b[43m    \u001b[49m\u001b[43mport\u001b[49m\u001b[43m \u001b[49m\u001b[38;5;241;43m=\u001b[39;49m\u001b[43m \u001b[49m\u001b[43mos\u001b[49m\u001b[38;5;241;43m.\u001b[39;49m\u001b[43mgetenv\u001b[49m\u001b[43m(\u001b[49m\u001b[38;5;124;43m'\u001b[39;49m\u001b[38;5;124;43mport\u001b[39;49m\u001b[38;5;124;43m'\u001b[39;49m\u001b[43m)\u001b[49m\n\u001b[0;32m      8\u001b[0m \u001b[43m)\u001b[49m\n\u001b[0;32m      9\u001b[0m cursor \u001b[38;5;241m=\u001b[39m mydb\u001b[38;5;241m.\u001b[39mcursor()\n",
            "File \u001b[1;32m~\\AppData\\Local\\Packages\\PythonSoftwareFoundation.Python.3.11_qbz5n2kfra8p0\\LocalCache\\local-packages\\Python311\\site-packages\\mysql\\connector\\pooling.py:323\u001b[0m, in \u001b[0;36mconnect\u001b[1;34m(*args, **kwargs)\u001b[0m\n\u001b[0;32m    321\u001b[0m \u001b[38;5;28;01mif\u001b[39;00m CMySQLConnection \u001b[38;5;129;01mand\u001b[39;00m \u001b[38;5;129;01mnot\u001b[39;00m use_pure:\n\u001b[0;32m    322\u001b[0m     \u001b[38;5;28;01mreturn\u001b[39;00m CMySQLConnection(\u001b[38;5;241m*\u001b[39margs, \u001b[38;5;241m*\u001b[39m\u001b[38;5;241m*\u001b[39mkwargs)\n\u001b[1;32m--> 323\u001b[0m \u001b[38;5;28;01mreturn\u001b[39;00m \u001b[43mMySQLConnection\u001b[49m\u001b[43m(\u001b[49m\u001b[38;5;241;43m*\u001b[39;49m\u001b[43margs\u001b[49m\u001b[43m,\u001b[49m\u001b[43m \u001b[49m\u001b[38;5;241;43m*\u001b[39;49m\u001b[38;5;241;43m*\u001b[39;49m\u001b[43mkwargs\u001b[49m\u001b[43m)\u001b[49m\n",
            "File \u001b[1;32m~\\AppData\\Local\\Packages\\PythonSoftwareFoundation.Python.3.11_qbz5n2kfra8p0\\LocalCache\\local-packages\\Python311\\site-packages\\mysql\\connector\\connection.py:179\u001b[0m, in \u001b[0;36mMySQLConnection.__init__\u001b[1;34m(self, **kwargs)\u001b[0m\n\u001b[0;32m    177\u001b[0m \u001b[38;5;28;01mif\u001b[39;00m kwargs:\n\u001b[0;32m    178\u001b[0m     \u001b[38;5;28;01mtry\u001b[39;00m:\n\u001b[1;32m--> 179\u001b[0m         \u001b[38;5;28;43mself\u001b[39;49m\u001b[38;5;241;43m.\u001b[39;49m\u001b[43mconnect\u001b[49m\u001b[43m(\u001b[49m\u001b[38;5;241;43m*\u001b[39;49m\u001b[38;5;241;43m*\u001b[39;49m\u001b[43mkwargs\u001b[49m\u001b[43m)\u001b[49m\n\u001b[0;32m    180\u001b[0m     \u001b[38;5;28;01mexcept\u001b[39;00m \u001b[38;5;167;01mException\u001b[39;00m:\n\u001b[0;32m    181\u001b[0m         \u001b[38;5;66;03m# Tidy-up underlying socket on failure\u001b[39;00m\n\u001b[0;32m    182\u001b[0m         \u001b[38;5;28mself\u001b[39m\u001b[38;5;241m.\u001b[39mclose()\n",
            "File \u001b[1;32m~\\AppData\\Local\\Packages\\PythonSoftwareFoundation.Python.3.11_qbz5n2kfra8p0\\LocalCache\\local-packages\\Python311\\site-packages\\mysql\\connector\\abstracts.py:1399\u001b[0m, in \u001b[0;36mMySQLConnectionAbstract.connect\u001b[1;34m(self, **kwargs)\u001b[0m\n\u001b[0;32m   1396\u001b[0m     \u001b[38;5;28mself\u001b[39m\u001b[38;5;241m.\u001b[39mconfig(\u001b[38;5;241m*\u001b[39m\u001b[38;5;241m*\u001b[39mkwargs)\n\u001b[0;32m   1398\u001b[0m \u001b[38;5;28mself\u001b[39m\u001b[38;5;241m.\u001b[39mdisconnect()\n\u001b[1;32m-> 1399\u001b[0m \u001b[38;5;28;43mself\u001b[39;49m\u001b[38;5;241;43m.\u001b[39;49m\u001b[43m_open_connection\u001b[49m\u001b[43m(\u001b[49m\u001b[43m)\u001b[49m\n\u001b[0;32m   1401\u001b[0m charset, collation \u001b[38;5;241m=\u001b[39m (\n\u001b[0;32m   1402\u001b[0m     kwargs\u001b[38;5;241m.\u001b[39mpop(\u001b[38;5;124m\"\u001b[39m\u001b[38;5;124mcharset\u001b[39m\u001b[38;5;124m\"\u001b[39m, \u001b[38;5;28;01mNone\u001b[39;00m),\n\u001b[0;32m   1403\u001b[0m     kwargs\u001b[38;5;241m.\u001b[39mpop(\u001b[38;5;124m\"\u001b[39m\u001b[38;5;124mcollation\u001b[39m\u001b[38;5;124m\"\u001b[39m, \u001b[38;5;28;01mNone\u001b[39;00m),\n\u001b[0;32m   1404\u001b[0m )\n\u001b[0;32m   1405\u001b[0m \u001b[38;5;28;01mif\u001b[39;00m charset \u001b[38;5;129;01mor\u001b[39;00m collation:\n",
            "File \u001b[1;32m~\\AppData\\Local\\Packages\\PythonSoftwareFoundation.Python.3.11_qbz5n2kfra8p0\\LocalCache\\local-packages\\Python311\\site-packages\\mysql\\connector\\connection.py:363\u001b[0m, in \u001b[0;36mMySQLConnection._open_connection\u001b[1;34m(self)\u001b[0m\n\u001b[0;32m    360\u001b[0m \u001b[38;5;28mself\u001b[39m\u001b[38;5;241m.\u001b[39m_do_handshake()\n\u001b[0;32m    362\u001b[0m \u001b[38;5;66;03m# start authentication negotiation\u001b[39;00m\n\u001b[1;32m--> 363\u001b[0m \u001b[38;5;28;43mself\u001b[39;49m\u001b[38;5;241;43m.\u001b[39;49m\u001b[43m_do_auth\u001b[49m\u001b[43m(\u001b[49m\n\u001b[0;32m    364\u001b[0m \u001b[43m    \u001b[49m\u001b[38;5;28;43mself\u001b[39;49m\u001b[38;5;241;43m.\u001b[39;49m\u001b[43m_user\u001b[49m\u001b[43m,\u001b[49m\n\u001b[0;32m    365\u001b[0m \u001b[43m    \u001b[49m\u001b[38;5;28;43mself\u001b[39;49m\u001b[38;5;241;43m.\u001b[39;49m\u001b[43m_password\u001b[49m\u001b[43m,\u001b[49m\n\u001b[0;32m    366\u001b[0m \u001b[43m    \u001b[49m\u001b[38;5;28;43mself\u001b[39;49m\u001b[38;5;241;43m.\u001b[39;49m\u001b[43m_database\u001b[49m\u001b[43m,\u001b[49m\n\u001b[0;32m    367\u001b[0m \u001b[43m    \u001b[49m\u001b[38;5;28;43mself\u001b[39;49m\u001b[38;5;241;43m.\u001b[39;49m\u001b[43m_client_flags\u001b[49m\u001b[43m,\u001b[49m\n\u001b[0;32m    368\u001b[0m \u001b[43m    \u001b[49m\u001b[38;5;28;43mself\u001b[39;49m\u001b[38;5;241;43m.\u001b[39;49m\u001b[43m_ssl\u001b[49m\u001b[43m,\u001b[49m\n\u001b[0;32m    369\u001b[0m \u001b[43m    \u001b[49m\u001b[38;5;28;43mself\u001b[39;49m\u001b[38;5;241;43m.\u001b[39;49m\u001b[43m_conn_attrs\u001b[49m\u001b[43m,\u001b[49m\n\u001b[0;32m    370\u001b[0m \u001b[43m\u001b[49m\u001b[43m)\u001b[49m\n\u001b[0;32m    371\u001b[0m \u001b[38;5;28mself\u001b[39m\u001b[38;5;241m.\u001b[39mset_converter_class(\u001b[38;5;28mself\u001b[39m\u001b[38;5;241m.\u001b[39m_converter_class)\n\u001b[0;32m    373\u001b[0m \u001b[38;5;28;01mif\u001b[39;00m \u001b[38;5;28mself\u001b[39m\u001b[38;5;241m.\u001b[39m_client_flags \u001b[38;5;241m&\u001b[39m ClientFlag\u001b[38;5;241m.\u001b[39mCOMPRESS:\n\u001b[0;32m    374\u001b[0m     \u001b[38;5;66;03m# update the network layer accordingly\u001b[39;00m\n",
            "File \u001b[1;32m~\\AppData\\Local\\Packages\\PythonSoftwareFoundation.Python.3.11_qbz5n2kfra8p0\\LocalCache\\local-packages\\Python311\\site-packages\\mysql\\connector\\connection.py:297\u001b[0m, in \u001b[0;36mMySQLConnection._do_auth\u001b[1;34m(self, username, password, database, client_flags, ssl_options, conn_attrs)\u001b[0m\n\u001b[0;32m    288\u001b[0m     \u001b[38;5;28mself\u001b[39m\u001b[38;5;241m.\u001b[39m_authenticator\u001b[38;5;241m.\u001b[39msetup_ssl(\n\u001b[0;32m    289\u001b[0m         \u001b[38;5;28mself\u001b[39m\u001b[38;5;241m.\u001b[39m_socket,\n\u001b[0;32m    290\u001b[0m         \u001b[38;5;28mself\u001b[39m\u001b[38;5;241m.\u001b[39mserver_host,\n\u001b[1;32m   (...)\u001b[0m\n\u001b[0;32m    293\u001b[0m         client_flags\u001b[38;5;241m=\u001b[39mclient_flags,\n\u001b[0;32m    294\u001b[0m     )\n\u001b[0;32m    295\u001b[0m     \u001b[38;5;28mself\u001b[39m\u001b[38;5;241m.\u001b[39m_ssl_active \u001b[38;5;241m=\u001b[39m \u001b[38;5;28;01mTrue\u001b[39;00m\n\u001b[1;32m--> 297\u001b[0m ok_pkt \u001b[38;5;241m=\u001b[39m \u001b[38;5;28;43mself\u001b[39;49m\u001b[38;5;241;43m.\u001b[39;49m\u001b[43m_authenticator\u001b[49m\u001b[38;5;241;43m.\u001b[39;49m\u001b[43mauthenticate\u001b[49m\u001b[43m(\u001b[49m\n\u001b[0;32m    298\u001b[0m \u001b[43m    \u001b[49m\u001b[43msock\u001b[49m\u001b[38;5;241;43m=\u001b[39;49m\u001b[38;5;28;43mself\u001b[39;49m\u001b[38;5;241;43m.\u001b[39;49m\u001b[43m_socket\u001b[49m\u001b[43m,\u001b[49m\n\u001b[0;32m    299\u001b[0m \u001b[43m    \u001b[49m\u001b[43mhandshake\u001b[49m\u001b[38;5;241;43m=\u001b[39;49m\u001b[38;5;28;43mself\u001b[39;49m\u001b[38;5;241;43m.\u001b[39;49m\u001b[43m_handshake\u001b[49m\u001b[43m,\u001b[49m\n\u001b[0;32m    300\u001b[0m \u001b[43m    \u001b[49m\u001b[43musername\u001b[49m\u001b[38;5;241;43m=\u001b[39;49m\u001b[43musername\u001b[49m\u001b[43m,\u001b[49m\n\u001b[0;32m    301\u001b[0m \u001b[43m    \u001b[49m\u001b[43mpassword1\u001b[49m\u001b[38;5;241;43m=\u001b[39;49m\u001b[43mpassword\u001b[49m\u001b[43m,\u001b[49m\n\u001b[0;32m    302\u001b[0m \u001b[43m    \u001b[49m\u001b[43mpassword2\u001b[49m\u001b[38;5;241;43m=\u001b[39;49m\u001b[38;5;28;43mself\u001b[39;49m\u001b[38;5;241;43m.\u001b[39;49m\u001b[43m_password2\u001b[49m\u001b[43m,\u001b[49m\n\u001b[0;32m    303\u001b[0m \u001b[43m    \u001b[49m\u001b[43mpassword3\u001b[49m\u001b[38;5;241;43m=\u001b[39;49m\u001b[38;5;28;43mself\u001b[39;49m\u001b[38;5;241;43m.\u001b[39;49m\u001b[43m_password3\u001b[49m\u001b[43m,\u001b[49m\n\u001b[0;32m    304\u001b[0m \u001b[43m    \u001b[49m\u001b[43mdatabase\u001b[49m\u001b[38;5;241;43m=\u001b[39;49m\u001b[43mdatabase\u001b[49m\u001b[43m,\u001b[49m\n\u001b[0;32m    305\u001b[0m \u001b[43m    \u001b[49m\u001b[43mcharset\u001b[49m\u001b[38;5;241;43m=\u001b[39;49m\u001b[38;5;28;43mself\u001b[39;49m\u001b[38;5;241;43m.\u001b[39;49m\u001b[43m_charset_id\u001b[49m\u001b[43m,\u001b[49m\n\u001b[0;32m    306\u001b[0m \u001b[43m    \u001b[49m\u001b[43mclient_flags\u001b[49m\u001b[38;5;241;43m=\u001b[39;49m\u001b[43mclient_flags\u001b[49m\u001b[43m,\u001b[49m\n\u001b[0;32m    307\u001b[0m \u001b[43m    \u001b[49m\u001b[43mauth_plugin\u001b[49m\u001b[38;5;241;43m=\u001b[39;49m\u001b[38;5;28;43mself\u001b[39;49m\u001b[38;5;241;43m.\u001b[39;49m\u001b[43m_auth_plugin\u001b[49m\u001b[43m,\u001b[49m\n\u001b[0;32m    308\u001b[0m \u001b[43m    \u001b[49m\u001b[43mauth_plugin_class\u001b[49m\u001b[38;5;241;43m=\u001b[39;49m\u001b[38;5;28;43mself\u001b[39;49m\u001b[38;5;241;43m.\u001b[39;49m\u001b[43m_auth_plugin_class\u001b[49m\u001b[43m,\u001b[49m\n\u001b[0;32m    309\u001b[0m \u001b[43m    \u001b[49m\u001b[43mconn_attrs\u001b[49m\u001b[38;5;241;43m=\u001b[39;49m\u001b[43mconn_attrs\u001b[49m\u001b[43m,\u001b[49m\n\u001b[0;32m    310\u001b[0m \u001b[43m    \u001b[49m\u001b[43mkrb_service_principal\u001b[49m\u001b[38;5;241;43m=\u001b[39;49m\u001b[38;5;28;43mself\u001b[39;49m\u001b[38;5;241;43m.\u001b[39;49m\u001b[43m_krb_service_principal\u001b[49m\u001b[43m,\u001b[49m\n\u001b[0;32m    311\u001b[0m \u001b[43m    \u001b[49m\u001b[43moci_config_file\u001b[49m\u001b[38;5;241;43m=\u001b[39;49m\u001b[38;5;28;43mself\u001b[39;49m\u001b[38;5;241;43m.\u001b[39;49m\u001b[43m_oci_config_file\u001b[49m\u001b[43m,\u001b[49m\n\u001b[0;32m    312\u001b[0m \u001b[43m    \u001b[49m\u001b[43moci_config_profile\u001b[49m\u001b[38;5;241;43m=\u001b[39;49m\u001b[38;5;28;43mself\u001b[39;49m\u001b[38;5;241;43m.\u001b[39;49m\u001b[43m_oci_config_profile\u001b[49m\u001b[43m,\u001b[49m\n\u001b[0;32m    313\u001b[0m \u001b[43m    \u001b[49m\u001b[43mwebauthn_callback\u001b[49m\u001b[38;5;241;43m=\u001b[39;49m\u001b[38;5;28;43mself\u001b[39;49m\u001b[38;5;241;43m.\u001b[39;49m\u001b[43m_webauthn_callback\u001b[49m\u001b[43m,\u001b[49m\n\u001b[0;32m    314\u001b[0m \u001b[43m\u001b[49m\u001b[43m)\u001b[49m\n\u001b[0;32m    315\u001b[0m \u001b[38;5;28mself\u001b[39m\u001b[38;5;241m.\u001b[39m_handle_ok(ok_pkt)\n\u001b[0;32m    317\u001b[0m \u001b[38;5;28;01mif\u001b[39;00m \u001b[38;5;129;01mnot\u001b[39;00m (client_flags \u001b[38;5;241m&\u001b[39m ClientFlag\u001b[38;5;241m.\u001b[39mCONNECT_WITH_DB) \u001b[38;5;129;01mand\u001b[39;00m database:\n",
            "File \u001b[1;32m~\\AppData\\Local\\Packages\\PythonSoftwareFoundation.Python.3.11_qbz5n2kfra8p0\\LocalCache\\local-packages\\Python311\\site-packages\\mysql\\connector\\authentication.py:371\u001b[0m, in \u001b[0;36mMySQLAuthenticator.authenticate\u001b[1;34m(self, sock, handshake, username, password1, password2, password3, database, charset, client_flags, max_allowed_packet, auth_plugin, auth_plugin_class, conn_attrs, is_change_user_request, **plugin_config)\u001b[0m\n\u001b[0;32m    368\u001b[0m \u001b[38;5;66;03m# server replies back\u001b[39;00m\n\u001b[0;32m    369\u001b[0m pkt \u001b[38;5;241m=\u001b[39m \u001b[38;5;28mbytes\u001b[39m(sock\u001b[38;5;241m.\u001b[39mrecv())\n\u001b[1;32m--> 371\u001b[0m ok_pkt \u001b[38;5;241m=\u001b[39m \u001b[38;5;28;43mself\u001b[39;49m\u001b[38;5;241;43m.\u001b[39;49m\u001b[43m_handle_server_response\u001b[49m\u001b[43m(\u001b[49m\u001b[43msock\u001b[49m\u001b[43m,\u001b[49m\u001b[43m \u001b[49m\u001b[43mpkt\u001b[49m\u001b[43m)\u001b[49m\n\u001b[0;32m    372\u001b[0m \u001b[38;5;28;01mif\u001b[39;00m ok_pkt \u001b[38;5;129;01mis\u001b[39;00m \u001b[38;5;28;01mNone\u001b[39;00m:\n\u001b[0;32m    373\u001b[0m     \u001b[38;5;28;01mraise\u001b[39;00m InterfaceError(\u001b[38;5;124m\"\u001b[39m\u001b[38;5;124mGot a NULL ok_pkt\u001b[39m\u001b[38;5;124m\"\u001b[39m) \u001b[38;5;28;01mfrom\u001b[39;00m \u001b[38;5;28;01mNone\u001b[39;00m\n",
            "File \u001b[1;32m~\\AppData\\Local\\Packages\\PythonSoftwareFoundation.Python.3.11_qbz5n2kfra8p0\\LocalCache\\local-packages\\Python311\\site-packages\\mysql\\connector\\authentication.py:285\u001b[0m, in \u001b[0;36mMySQLAuthenticator._handle_server_response\u001b[1;34m(self, sock, pkt)\u001b[0m\n\u001b[0;32m    282\u001b[0m     \u001b[38;5;28;01mreturn\u001b[39;00m \u001b[38;5;28mself\u001b[39m\u001b[38;5;241m.\u001b[39m_mfa_n_factor(sock, pkt)\n\u001b[0;32m    284\u001b[0m \u001b[38;5;28;01mif\u001b[39;00m pkt[\u001b[38;5;241m4\u001b[39m] \u001b[38;5;241m==\u001b[39m ERR_STATUS:\n\u001b[1;32m--> 285\u001b[0m     \u001b[38;5;28;01mraise\u001b[39;00m get_exception(pkt)\n\u001b[0;32m    287\u001b[0m \u001b[38;5;28;01mreturn\u001b[39;00m \u001b[38;5;28;01mNone\u001b[39;00m\n",
            "\u001b[1;31mProgrammingError\u001b[0m: 1045 (28000): Access denied for user 'juanjose.naranjo@students.gammatech.school'@'localhost' (using password: YES)"
          ]
        }
      ],
      "source": [
        "#Ahora puedo montar mi motor sin exponer credenciales ni detalles de la conexión, lo cargamos todo desde el fichero dotenv\n",
        "mydb = conn.connect(\n",
        "    host = os.getenv('host'),\n",
        "    password = os.getenv('password'),\n",
        "    #database = os.getenv('db'),\n",
        "    user = os.getenv('user'),\n",
        "    port = os.getenv('port')\n",
        ")\n",
        "cursor = mydb.cursor()"
      ]
    },
    {
      "cell_type": "code",
      "execution_count": 6,
      "metadata": {
        "id": "J4ZbrED7NP3o"
      },
      "outputs": [],
      "source": [
        "#Vamos a comprobar si estamos bien conectados:\n",
        "cursor.execute(\"SHOW DATABASES\")"
      ]
    },
    {
      "cell_type": "code",
      "execution_count": null,
      "metadata": {
        "id": "PyfQ2gMcNP3o"
      },
      "outputs": [],
      "source": [
        "for x in cursor:\n",
        "    print(x)"
      ]
    },
    {
      "cell_type": "markdown",
      "metadata": {
        "id": "oATEBH8kNP3p"
      },
      "source": [
        "#### 2.2 - CREANDO UNA BASE DE DATOS"
      ]
    },
    {
      "cell_type": "code",
      "execution_count": 8,
      "metadata": {
        "id": "fNY9YmVINP3p"
      },
      "outputs": [],
      "source": [
        "#Vamos a crear una base de datos y la llamaremos \"prueba\"\n",
        "cursor.execute(\"CREATE DATABASE prueba\") # siempre es mejor utilizar la sentencia CREATE DATABASE IF NOT EXISTS nombre_base_datos"
      ]
    },
    {
      "cell_type": "markdown",
      "metadata": {
        "id": "tYCOt2Y6NP3p"
      },
      "source": [
        "Vamos a comprobar si todo ha funcionado correctamente, vamos a **conectarnos** a la base de datos que acabamos de crear que se llama **\"prueba\"**."
      ]
    },
    {
      "cell_type": "code",
      "execution_count": 9,
      "metadata": {
        "id": "M92M1QiJNP3p"
      },
      "outputs": [],
      "source": [
        "cursor.execute(\"USE prueba\") #Nos cambiamos a la base de datos prueba\n",
        "cursor.execute(\"SHOW TABLES\")\n",
        "for x in cursor:\n",
        "    print(x) #No hay tablas"
      ]
    },
    {
      "cell_type": "markdown",
      "metadata": {
        "id": "WadDszBHNP3p"
      },
      "source": [
        "Efectivamente la base de datos `prueba` existe, pero está vacía, no tiene ninguna tabla. Por lo que vamos a crearla."
      ]
    },
    {
      "cell_type": "markdown",
      "metadata": {
        "id": "A0HLA42u54_H"
      },
      "source": [
        "Vamos a crear una tabla de alumnos"
      ]
    },
    {
      "cell_type": "code",
      "execution_count": null,
      "metadata": {
        "id": "IzUEL7le54_H"
      },
      "outputs": [],
      "source": [
        "import pandas as pd\n",
        "\n",
        "# Alumnos de la clase:\n",
        "alumnos = [{'alumno':'Gino','sexo':'hombre','ciudad':'madrid'},\n",
        "           {'alumno':'Yovanna','sexo':'mujer','ciudad':'madrid'},\n",
        "           {'alumno':'Daniela','sexo':'mujer','ciudad':'madrid'},\n",
        "           {'alumno':'Zuley','sexo':'hombre','ciudad':'madrid'},\n",
        "           {'alumno':'Yan','sexo':'hombre','ciudad':'madrid'},\n",
        "           {'alumno':'Rubén','sexo':'hombre','ciudad':'madrid'},\n",
        "           {'alumno':'JJ','sexo':'hombre','ciudad':'madrid'},\n",
        "           {'alumno':'Tobal','sexo':'hombre','ciudad':'madrid'}]\n",
        "\n",
        "df_alumnos = pd.DataFrame(alumnos)\n",
        "df_alumnos"
      ]
    },
    {
      "cell_type": "markdown",
      "metadata": {
        "id": "UDXQ4ErUNP3r"
      },
      "source": [
        "Ahora vamos a crear una tabla de ejercicios"
      ]
    },
    {
      "cell_type": "code",
      "execution_count": null,
      "metadata": {
        "id": "yxQtYQOD54_H"
      },
      "outputs": [],
      "source": [
        "#ejercicios va a ser una lista de notas aleatorias de los alumnos\n",
        "import pandas as pd\n",
        "def notas():\n",
        "    import random\n",
        "    return [random.randint(1,10) for i in range(5)]\n",
        "ejercicios = [{'alumno': 'Gino', 'ejercicios': notas()},\n",
        "              {'alumno': 'Yovanna','ejercicios': notas()},\n",
        "              {'alumno': 'Daniela','ejercicios': notas()},\n",
        "              {'alumno': 'Zuley','ejercicios': notas()},\n",
        "              {'alumno': 'Yan','ejercicios': notas()},\n",
        "              {'alumno': 'Rubén','ejercicios': notas()},\n",
        "              {'alumno': 'JJ','ejercicios': notas()},\n",
        "              {'alumno': 'Tobal','ejercicios': notas()}]\n",
        "df_ejercicios = pd.DataFrame(ejercicios)\n",
        "df_ejercicios"
      ]
    },
    {
      "cell_type": "code",
      "execution_count": null,
      "metadata": {},
      "outputs": [],
      "source": [
        "df_ejercicios = df_ejercicios.explode('ejercicios')\n",
        "df_ejercicios.head()"
      ]
    },
    {
      "cell_type": "code",
      "execution_count": null,
      "metadata": {
        "id": "9vn_EAG854_H"
      },
      "outputs": [],
      "source": [
        "df_ejercicios.reset_index(drop=True,inplace=True)\n",
        "df_ejercicios.head(10)"
      ]
    },
    {
      "cell_type": "markdown",
      "metadata": {
        "id": "RHKTsfViNP3r"
      },
      "source": [
        "Ahora que tenemos los 2 dataframes con los datos que queremos, vamos a crear las tablas en nuestra base de datos.\n",
        "\n",
        "1 - Tabla `alumnos`:"
      ]
    },
    {
      "cell_type": "code",
      "execution_count": 14,
      "metadata": {
        "id": "aqFa6up_NP3s"
      },
      "outputs": [],
      "source": [
        "#Vamos a crear una base de datos llamada \"alumnos_data\" con los datos de df_alumnos\n",
        "cursor.execute(\"CREATE DATABASE IF NOT EXISTS alumnos_data\")\n",
        "cursor.execute(\"USE alumnos_data\")\n",
        "\n",
        "#Entidad alumnos --> alumno | sexo | ciudad"
      ]
    },
    {
      "cell_type": "code",
      "execution_count": 15,
      "metadata": {
        "id": "g8ZQHOI-NP3s"
      },
      "outputs": [],
      "source": [
        "#Entidad ejercicios --> alumno | ejercicios"
      ]
    },
    {
      "cell_type": "markdown",
      "metadata": {
        "id": "45r3lpKINP3s"
      },
      "source": [
        "Ahora que tenemos nuestras 2 tablas creadas en nuestra base de datos `alumnos_data`, vamos a insertar los datos que tenemos en nuestros dataframes. El de alumnos y el de ejercicios."
      ]
    },
    {
      "cell_type": "code",
      "execution_count": null,
      "metadata": {
        "id": "GDnAXmcDNP3s"
      },
      "outputs": [],
      "source": [
        "df_alumnos.head(5) #Refresecamos que pinta tiene el df"
      ]
    },
    {
      "cell_type": "markdown",
      "metadata": {},
      "source": [
        "Refrescamos como era una onstrucción INSERT de SQL:\n",
        "\n",
        "```sql\n",
        "--Opcion 1\n",
        "INSERT INTO nombre_tabla (columna1, columna2, columna3, ...)\n",
        "VALUES (valor1, valor2, valor3, ...);\n",
        "```\n",
        "\n",
        "```sql\n",
        "--Opcion 2\n",
        "INSERT INTO nombre_tabla (columna1, columna2, columna3, ...)\n",
        "VALUES (valor1, valor2, valor3, ...),\n",
        "       (valor1, valor2, valor3, ...),\n",
        "       (valor1, valor2, valor3, ...),\n",
        "       ...\n",
        "       (valor1, valor2, valor3, ...);\n",
        "```\n",
        "\n",
        "```sql\n",
        "--Opcion 3\n",
        "INSERT INTO nombre_tabla\n",
        "VALUES (valor1, valor2, valor3, ...);\n",
        "```"
      ]
    },
    {
      "cell_type": "code",
      "execution_count": 17,
      "metadata": {
        "id": "9tKFZfMQNP3s"
      },
      "outputs": [],
      "source": [
        "#Esto lo codeamos en clase"
      ]
    },
    {
      "cell_type": "code",
      "execution_count": 18,
      "metadata": {},
      "outputs": [],
      "source": [
        "#Vamos a hacer lo mismo pero en una sola query"
      ]
    },
    {
      "cell_type": "code",
      "execution_count": 19,
      "metadata": {},
      "outputs": [],
      "source": [
        "#Truncamos la tabla \n"
      ]
    },
    {
      "cell_type": "code",
      "execution_count": null,
      "metadata": {
        "id": "Pzr6ApnkNP3s"
      },
      "outputs": [],
      "source": [
        "df_ejercicios.head() #Refresecamos que pinta tiene el df"
      ]
    },
    {
      "cell_type": "code",
      "execution_count": 21,
      "metadata": {
        "id": "dIHbhi7FNP3s"
      },
      "outputs": [],
      "source": [
        "#Poblamos la tabla de ejercicios"
      ]
    },
    {
      "cell_type": "markdown",
      "metadata": {
        "id": "yS3M_TBTNP36"
      },
      "source": [
        "Pues de esta manera podemos cargar nuestros datos y hacernos nuestras propias databases y trabajar con ellas desde Python, haciendo lo mismo que haríamos en MySQL pero sin tener que salirnos de Python y andar cambiando de Workbench (o el que sea) a Python.\n",
        "\n",
        "También podríamos hacer el proceso inverso y sacar datos de SQL y meterlo en un dataframe de Pandas"
      ]
    },
    {
      "cell_type": "markdown",
      "metadata": {
        "id": "IJaSi99tNP37"
      },
      "source": [
        "#### 2.3 - CONSULTANDO LA BASE DE DATOS"
      ]
    },
    {
      "cell_type": "code",
      "execution_count": null,
      "metadata": {
        "id": "_vwrWAoONP37"
      },
      "outputs": [],
      "source": [
        "import time\n",
        "cursor.execute(\"SELECT * FROM alumnos\")\n",
        "time.sleep(1)\n",
        "for x in cursor:\n",
        "    time.sleep(1)\n",
        "    print(x)#,end='\\r') #para que sobreescriba encima"
      ]
    },
    {
      "cell_type": "code",
      "execution_count": null,
      "metadata": {
        "id": "KY6DMBQf54_I"
      },
      "outputs": [],
      "source": [
        "cursor.close()"
      ]
    },
    {
      "cell_type": "markdown",
      "metadata": {
        "id": "ul5HXsBnNP37"
      },
      "source": [
        "Ahora es vuestro turno, vamos a pegarnos con este [csv](https://drive.google.com/file/d/1tOg8MGCj8NZpxshozKUu7QpDuS4owsGS/view?usp=drive_link)"
      ]
    },
    {
      "cell_type": "code",
      "execution_count": 25,
      "metadata": {
        "id": "YmZkVROWeP5P"
      },
      "outputs": [],
      "source": [
        "mydb = conn.connect(\n",
        "    host = os.getenv('host'),\n",
        "    password = os.getenv('pwd'),\n",
        "    database = os.getenv('db'),\n",
        "    user = os.getenv('usuario'),\n",
        ")\n",
        "cursor = mydb.cursor()"
      ]
    },
    {
      "cell_type": "code",
      "execution_count": null,
      "metadata": {
        "id": "liytoaZXeRjr"
      },
      "outputs": [],
      "source": [
        "import pandas as pd\n",
        "df = pd.read_csv('apple_store.csv')\n",
        "df.head()"
      ]
    },
    {
      "cell_type": "code",
      "execution_count": null,
      "metadata": {
        "id": "67vsUBXVeXal"
      },
      "outputs": [],
      "source": [
        "df.shape"
      ]
    },
    {
      "cell_type": "code",
      "execution_count": 28,
      "metadata": {
        "id": "OtVSPsq9elig"
      },
      "outputs": [],
      "source": [
        "#Vamos a crear una tabla en nuestra base de datos\n",
        "cursor.execute(\"CREATE DATABASE IF NOT EXISTS apple_store\")\n",
        "#Vamos a usarla\n",
        "cursor.execute(\"USE apple_store\")"
      ]
    },
    {
      "cell_type": "code",
      "execution_count": 30,
      "metadata": {
        "id": "7LwbQ-ODerkK"
      },
      "outputs": [],
      "source": [
        "query = \"\"\"\n",
        "CREATE TABLE IF NOT EXISTS apple (\n",
        "  id BIGINT,\n",
        "  track_name VARCHAR(300),\n",
        "  size_bytes BIGINT,\n",
        "  price FLOAT(5,2),\n",
        "  rating_count_tot BIGINT,\n",
        "  rating_count_ver BIGINT,\n",
        "  user_rating FLOAT(5,2),\n",
        "  user_rating_ver FLOAT(5,2),\n",
        "  prime_genre VARCHAR(100),\n",
        "  PRIMARY KEY (id)\n",
        "  )\n",
        "  \"\"\""
      ]
    },
    {
      "cell_type": "code",
      "execution_count": 31,
      "metadata": {
        "id": "ox1CUBQweqa-"
      },
      "outputs": [],
      "source": [
        "cursor.execute(query)"
      ]
    },
    {
      "cell_type": "code",
      "execution_count": null,
      "metadata": {
        "id": "iEeg2SZKfjfr"
      },
      "outputs": [],
      "source": [
        "cursor.execute(\"SHOW TABLES\")\n",
        "for x in cursor:\n",
        "    print(x)\n",
        "#Vamos a insertas los datos de df en la tabla apple"
      ]
    },
    {
      "cell_type": "markdown",
      "metadata": {
        "id": "C52Ldj6QfZqz"
      },
      "source": [
        "Al intentar insertar las filas hay problemas con determinados caracteres, como por ejemplo `'` pues lo que hace es indicar que ahí termina una cadena de texto."
      ]
    },
    {
      "cell_type": "code",
      "execution_count": 33,
      "metadata": {},
      "outputs": [],
      "source": [
        "#Vaciamos la tabla \n",
        "cursor.execute(\"TRUNCATE TABLE apple\")"
      ]
    },
    {
      "cell_type": "markdown",
      "metadata": {
        "id": "oCKUeGnSfj-g"
      },
      "source": [
        "Para evitar este conflicto hay otra manera de realizar la inserción:"
      ]
    },
    {
      "cell_type": "code",
      "execution_count": null,
      "metadata": {
        "id": "vQSvAE8wfspl"
      },
      "outputs": [],
      "source": [
        "for i, row in df.iterrows():\n",
        "    query = \"\"\"\n",
        "    INSERT INTO apple VALUES (%s, %s, %s, %s, %s, %s, %s, %s, %s)\n",
        "    \"\"\"\n",
        "    # recordad que si se introducen la misma cantidad de valores que columnas no hace falta especificar las columnas\n",
        "    values = (\n",
        "        row['id'],\n",
        "        row['track_name'],\n",
        "        row['size_bytes'],\n",
        "        row['price'],\n",
        "        row['rating_count_tot'],\n",
        "        row['rating_count_ver'],\n",
        "        row['user_rating'],\n",
        "        row['user_rating_ver'],\n",
        "        row['prime_genre']\n",
        "    )\n",
        "    print(query, values)\n",
        "    cursor.execute(query, values)\n",
        "    cursor.execute(\"COMMIT\") #Sino los cambios no se guardan, no se ejecutan realmente\n",
        "    #cursor.close()\n",
        "(print(f\"{i+1} filas insertadas\"))"
      ]
    },
    {
      "cell_type": "markdown",
      "metadata": {
        "id": "SwomF4D3gDOz"
      },
      "source": [
        "En este caso, utilizas `%s` como marcadores de posición para los valores en la consulta `SQL` y luego pasas una tupla `values` que contiene los valores reales a `cursor.execute()`. De esta manera, el driver de MySQL se encargará de escapar correctamente todos los valores para prevenir errores de sintaxis y vulnerabilidades de seguridad."
      ]
    },
    {
      "cell_type": "code",
      "execution_count": null,
      "metadata": {
        "id": "jrFKk_dGgF0T"
      },
      "outputs": [],
      "source": [
        "cursor.close()"
      ]
    },
    {
      "cell_type": "markdown",
      "metadata": {
        "id": "5NwL4hADNP37"
      },
      "source": [
        "# 3 - SQL ALCHEMY\n",
        "\n",
        "Sql Alchemy es una librería que nos permite trabajar con bases de datos de una manera más sencilla y más parecida a como lo hacemos en SQL.\n",
        "\n",
        "Es la librería más usada para trabajar con bases de datos desde Python, ya que nos permite trabajar con cualquier base de datos, tanto SQL como NoSQL.Aunque para trabajar con bases de datos NoSQL existen otras librerías más específicas, mejores y más sencillas en esos casos.\n",
        "\n",
        "## 3.1 - CONFIGURACIÓN CONEXIÓN:\n",
        "\n",
        "Para empezar a trabajar con SQL Alchemy, lo primero que tenemos que hacer es instalarla:\n",
        "```bash\n",
        "!pip install sqlalchemy\n",
        "```\n",
        "Lo siguiente es configurar la `conexión` a nuestra base de datos, creando lo que se llama un `engine`(motor) y pasándole la información de la conexión en una `string de conexión`."
      ]
    },
    {
      "cell_type": "code",
      "execution_count": 36,
      "metadata": {
        "id": "uYXzuZcMNP37"
      },
      "outputs": [],
      "source": [
        "#%pip install sqlalchemy #Instalamos la librería\n",
        "import sqlalchemy as sa"
      ]
    },
    {
      "cell_type": "code",
      "execution_count": 37,
      "metadata": {
        "id": "NP1P8nADNP37"
      },
      "outputs": [],
      "source": [
        "#Parametros de la conexion:\n",
        "host = os.getenv('host')\n",
        "password = os.getenv('pwd')\n",
        "database = os.getenv('db')\n",
        "user = os.getenv('usuario')\n",
        "engine = sa.create_engine(f'mysql+mysqlconnector://{user}:{password}@{host}/{database}') #Creamos el engine"
      ]
    },
    {
      "cell_type": "code",
      "execution_count": null,
      "metadata": {},
      "outputs": [],
      "source": [
        "#testeamos la conexión\n",
        "engine.connect()"
      ]
    },
    {
      "cell_type": "markdown",
      "metadata": {
        "id": "2Alq_BA5g8Wd"
      },
      "source": [
        "Podemos utilizar nuestro conector sin especificar una base de datos, en ese caso cómo creamos nuestro engine debe tener una pequeña modificación.\n",
        "```python\n",
        "#Parametros de la conexion:\n",
        "host = os.getenv('host')\n",
        "password = os.getenv('password')\n",
        "user = os.getenv('user')\n",
        "engine = sa.create_engine(f'mysql+mysqlconnector://{user}:{password}@{host}/') #Creamos el engine sin especificar una base de datos\n",
        "```"
      ]
    },
    {
      "cell_type": "code",
      "execution_count": 39,
      "metadata": {
        "id": "JqE0JS7eg_q9"
      },
      "outputs": [],
      "source": [
        "#Parametros de la conexion:\n",
        "host = os.getenv('host')\n",
        "password = os.getenv('pwd')\n",
        "user = os.getenv('usuario')\n",
        "engine = sa.create_engine(f'mysql+mysqlconnector://{user}:{password}@{host}/') #Creamos el engine"
      ]
    },
    {
      "cell_type": "code",
      "execution_count": null,
      "metadata": {
        "id": "sUXLMQ9QNP37"
      },
      "outputs": [],
      "source": [
        "#Probamos que conecta correctamente\n",
        "engine.connect() #Mi motor puede crear una conexion"
      ]
    },
    {
      "cell_type": "markdown",
      "metadata": {
        "id": "iLhVfhq_hGEm"
      },
      "source": [
        "Ya tenemos creada nuestra base de datos con una única tabla con aplicaciones de apple_store. Para poder ver su contenido lo primero que vamos a tener que hacer es conectarnos a esa base de datos:\n",
        "```sql\n",
        "--Activar una base de datos para poder hacer consultas en ella:\n",
        "USE nombre_base_datos;\n",
        "```"
      ]
    },
    {
      "cell_type": "code",
      "execution_count": null,
      "metadata": {},
      "outputs": [],
      "source": [
        "#Vamos a utilizar la base de datos\n",
        "query = 'USE apple_store'\n",
        "#Vamos a recuperar los datos de la tabla apple\n",
        "query_test = 'SELECT * FROM apple LIMIT 10'\n",
        "\n",
        "with engine.connect() as con:\n",
        "    con.execute(sa.text(query))\n",
        "    test = con.execute(sa.text(query_test))\n",
        "    print(test.fetchall())"
      ]
    },
    {
      "cell_type": "code",
      "execution_count": 42,
      "metadata": {},
      "outputs": [],
      "source": [
        "for fila in test.fetchall():\n",
        "    print(fila)"
      ]
    },
    {
      "cell_type": "code",
      "execution_count": null,
      "metadata": {
        "id": "qIIRppOiNP37"
      },
      "outputs": [],
      "source": [
        "#Vamos a ver que tablas hay en la base de datos\n",
        "query = \"SHOW TABLES\"\n",
        "\n",
        "with engine.connect() as con: #Con esto nos conectamos a la base de datos\n",
        "    con.execute(sa.text(query)) #Con esto ejecutamos la query\n",
        "    print(con.execute(sa.text(query)).fetchall()) #Con esto nos devuelve el resultado de la query"
      ]
    },
    {
      "cell_type": "code",
      "execution_count": null,
      "metadata": {
        "id": "8fSsTZqfhR8f"
      },
      "outputs": [],
      "source": [
        "# Solo hay una tabla, así que vamos a ver todo lo que tiene esa tabla\n",
        "query = \"SELECT * FROM apple\"\n",
        "\n",
        "with engine.connect() as con:\n",
        "    con.execute(sa.text(query)) #Con esto ejecutamos la query\n",
        "    print(con.execute(sa.text(query)).fetchall()) #Con esto nos devuelve el resultado de la query"
      ]
    },
    {
      "cell_type": "markdown",
      "metadata": {
        "id": "a7BreXL7hVZ1"
      },
      "source": [
        "Es un poco complicada la **lectura** así que lo que podemos hacer de una manera muy rápida es convertir esta **salida** de SQL en un **DataFrame**. Hay varios métodos para hacerlo:\n",
        "1. Se puede utilizar la función de **pandas** `read_sql_query()`\n",
        "2. Se puede utilizar la query directamente como data para la función de crear un DataFrame `pd.DataFrame`"
      ]
    },
    {
      "cell_type": "code",
      "execution_count": null,
      "metadata": {
        "id": "-57J_HKghWTH"
      },
      "outputs": [],
      "source": [
        "# Primer caso:\n",
        "query = \"SELECT * FROM apple\"\n",
        "\n",
        "with engine.connect() as con:\n",
        "    df_apple = pd.read_sql_query(query # query que quiero ejecutar\n",
        "                                 ,con) # conexión a la base de datos\n",
        "\n",
        "print(f'El tamaño de esta salida es: {df_apple.shape}')\n",
        "df_apple"
      ]
    },
    {
      "cell_type": "code",
      "execution_count": null,
      "metadata": {
        "id": "4-WJrPlRhfF_"
      },
      "outputs": [],
      "source": [
        "# Segundo caso:\n",
        "query = \"SELECT * FROM apple\"\n",
        "\n",
        "with engine.connect() as con:\n",
        "    df_apple = pd.DataFrame(con.execute(sa.text(query)).fetchall()) # le digo que data es directamente la query\n",
        "\n",
        "print(f'El tamaño de esta salida es: {df_apple.shape}')\n",
        "df_apple"
      ]
    },
    {
      "cell_type": "markdown",
      "metadata": {
        "id": "zoOkzaJ-hj-r"
      },
      "source": [
        "Hemos visto cómo recorrer un DataFrame y crear una tabla en SQL dentro de una base de datos de una manera dinámica con `f-strings`. \n",
        "\n",
        "No obstante, hay **otras maneras** de hacerlo, con SQLAlchemy podemos directamente convertir un **DataFrame** en una **tabla**, sin necesidad de preocuparnos por hacer algún tipo de **transformación previa**."
      ]
    },
    {
      "cell_type": "code",
      "execution_count": 47,
      "metadata": {
        "id": "1WZgKxiphqFB"
      },
      "outputs": [],
      "source": [
        "# Primero debemos crear una tabla para poder introducir la información\n",
        "# Una vez creada la tabla con las columnas necesarias ya podremos introducir la información\n",
        "query = \"\"\"\n",
        "CREATE TABLE IF NOT EXISTS apple_short (\n",
        "    id BIGINT,\n",
        "    price FLOAT(5,2),\n",
        "    user_rating FLOAT(5,2),\n",
        "    PRIMARY KEY (id)\n",
        "    )\n",
        "    \"\"\"\n",
        "\n",
        "with engine.connect() as con:\n",
        "    con.execute(sa.text(query))"
      ]
    },
    {
      "cell_type": "code",
      "execution_count": 49,
      "metadata": {
        "id": "1WiIgZp9hvTI"
      },
      "outputs": [],
      "source": [
        "# Primero, para no tener dos tablas idénticas, voy a filtrar el DataFrame para tener únicamente id, precio y puntuación.\n",
        "df_apple_insert = df_apple[['id', 'price', 'user_rating']]\n",
        "\n",
        "# Usamos el conector para introducir este df como una nueva tabla\n",
        "with engine.connect() as con:\n",
        "    df_apple_insert.to_sql('apple_recortada', # nombre de la tabla \n",
        "                            con=con, # conexión a la base de datos \n",
        "                            schema='apple_store', # nombre de la base de datos\n",
        "                            if_exists='replace', # comportamiento si la tabla ya existe ['fail', 'replace', 'append']\n",
        "                            index=False # si quiero añadir el índice como columna\n",
        "                            )"
      ]
    },
    {
      "cell_type": "code",
      "execution_count": null,
      "metadata": {
        "id": "xu9_XVdHiz62"
      },
      "outputs": [],
      "source": [
        "# Comprobamos los 5 primeros registros para ver que se ha insertado información\n",
        "query = \"\"\"\n",
        "SELECT *\n",
        "FROM apple_recortada\n",
        "LIMIT 5\n",
        "\"\"\"\n",
        "\n",
        "with engine.connect() as con:\n",
        "    con.execute(sa.text(query))\n",
        "    for result in con.execute(sa.text(query)):\n",
        "        print(result)"
      ]
    },
    {
      "cell_type": "markdown",
      "metadata": {},
      "source": [
        "## 3.2 - Creamos una tabla en nuestra base de datos a partir de un DataFrame\n",
        "\n",
        "Esta vez vamos a hacerlo, pero sin necesidad de crear la tabla en la base de datos, vamos a hacerlo directamente desde el DataFrame."
      ]
    },
    {
      "cell_type": "code",
      "execution_count": null,
      "metadata": {},
      "outputs": [],
      "source": [
        "df_apple.head()"
      ]
    },
    {
      "cell_type": "code",
      "execution_count": null,
      "metadata": {},
      "outputs": [],
      "source": [
        "df_apple_directa = df_apple[['track_name', 'size_bytes']]\n",
        "df_apple_directa"
      ]
    },
    {
      "cell_type": "code",
      "execution_count": 53,
      "metadata": {},
      "outputs": [],
      "source": [
        "# Usamos el conector para introducir este df como una nueva tabla\n",
        "with engine.connect() as con:\n",
        "    df_apple_directa.to_sql('apple_directa', # nombre de la tabla \n",
        "                            con=con, # conexión a la base de datos \n",
        "                            schema='apple_store', # nombre de la base de datos\n",
        "                            if_exists='replace', # comportamiento si la tabla ya existe ['fail', 'replace', 'append']\n",
        "                            index=False # si quiero añadir el índice como columna\n",
        "                            )"
      ]
    },
    {
      "cell_type": "code",
      "execution_count": null,
      "metadata": {},
      "outputs": [],
      "source": [
        "#Comprobamos\n",
        "query = 'SELECT * FROM apple_directa LIMIT 5'\n",
        "\n",
        "with engine.connect() as con:\n",
        "    con.execute(sa.text(query))\n",
        "    for result in con.execute(sa.text(query)):\n",
        "        print(result)"
      ]
    },
    {
      "cell_type": "markdown",
      "metadata": {},
      "source": [
        "## 3.3 - Actualizando registros en la base de datos\n",
        "\n",
        "Vamos a ver cómo podemos **actualizar** registros en nuestra base de datos. Para ello, vamos a hacer una **actualización** de la tabla `apple_store` que hemos creado anteriormente."
      ]
    },
    {
      "cell_type": "code",
      "execution_count": 58,
      "metadata": {},
      "outputs": [],
      "source": [
        "#Vamos descargar el contenido de la tabla apple en un DataFrame\n",
        "#para cambiar los datos de la columna 'prime_genre' a mayúsculas y \n",
        "# actualizar la tabla en la base de datos\n",
        "query = \"SELECT * FROM apple\"\n",
        "\n",
        "with engine.connect() as con:\n",
        "    df_apple = pd.read_sql_query(query, con)\n",
        "    "
      ]
    },
    {
      "cell_type": "code",
      "execution_count": null,
      "metadata": {},
      "outputs": [],
      "source": [
        "df_apple[['prime_genre']]"
      ]
    },
    {
      "cell_type": "code",
      "execution_count": null,
      "metadata": {},
      "outputs": [],
      "source": [
        "df_apple['prime_genre'] = df_apple['prime_genre'].str.lower()\n",
        "df_apple[['prime_genre']]"
      ]
    },
    {
      "cell_type": "code",
      "execution_count": 62,
      "metadata": {},
      "outputs": [],
      "source": [
        "# Cargamos el DataFrame en la base de datos\n",
        "with engine.connect() as con:\n",
        "    df_apple.to_sql('apple', # nombre de la tabla \n",
        "                    con=con, # conexión a la base de datos \n",
        "                    schema='apple_store', # nombre de la base de datos\n",
        "                    if_exists='replace', # comportamiento si la tabla ya existe ['fail', 'replace', 'append']\n",
        "                    index=False # si quiero añadir el índice como columna\n",
        "                    )"
      ]
    },
    {
      "cell_type": "code",
      "execution_count": null,
      "metadata": {},
      "outputs": [],
      "source": [
        "query = \"SELECT * FROM apple LIMIT 10\"\n",
        "\n",
        "with engine.connect() as con:\n",
        "    con.execute(sa.text(query))\n",
        "    df = pd.read_sql_query(query, con)\n",
        "df[['prime_genre']]"
      ]
    },
    {
      "cell_type": "code",
      "execution_count": null,
      "metadata": {},
      "outputs": [],
      "source": [
        "#Ejercicio \n",
        "# Vamos a resetear la columna id, para que empiece en 1 hasta el final\n",
        "#size_bytes vamos a cambiarlo a MB (1 MB son 1024*1024 bytes) y redondeamos a 2 decimales\n",
        "# vamos a crear una nueva columna que sea price . rating_count_tot y la llamaremos income"
      ]
    },
    {
      "cell_type": "markdown",
      "metadata": {},
      "source": []
    }
  ],
  "metadata": {
    "colab": {
      "provenance": []
    },
    "kernelspec": {
      "display_name": "Python 3",
      "language": "python",
      "name": "python3"
    },
    "language_info": {
      "codemirror_mode": {
        "name": "ipython",
        "version": 3
      },
      "file_extension": ".py",
      "mimetype": "text/x-python",
      "name": "python",
      "nbconvert_exporter": "python",
      "pygments_lexer": "ipython3",
      "version": "3.11.9"
    }
  },
  "nbformat": 4,
  "nbformat_minor": 0
}
